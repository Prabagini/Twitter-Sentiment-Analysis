{
 "cells": [
  {
   "cell_type": "markdown",
   "metadata": {},
   "source": [
    "# Natural Language Processing Using Twitter Sentiment"
   ]
  },
  {
   "cell_type": "markdown",
   "metadata": {},
   "source": [
    "## Overview"
   ]
  },
  {
   "cell_type": "markdown",
   "metadata": {},
   "source": [
    "In one day, there are over 500 million tweets among all twitter users. That's 6,000 tweets every second.(https://www.brandwatch.com/blog/twitter-stats-and-statistics/). They could be about a person, place, or thing. In this case, it will be about products. This project is focused around identifying positive, negative, or neutral sentiment in a Tweet using natural language processing. "
   ]
  },
  {
   "cell_type": "markdown",
   "metadata": {},
   "source": [
    "## Business Understanding"
   ]
  },
  {
   "cell_type": "markdown",
   "metadata": {},
   "source": [
    "The goal of this project is to build a Natural Processing Language model to analyze twitter sentiments about Apple and Google products as either positive, negative or neutral tweets. Companies can be benefitted from understanding how a person/consumers consider their brands and products."
   ]
  },
  {
   "cell_type": "markdown",
   "metadata": {},
   "source": [
    "## Approach"
   ]
  },
  {
   "cell_type": "markdown",
   "metadata": {},
   "source": [
    "We will follow the OSEMN (Obtain-Scrub-Explore-Model-Interpret)process for this project."
   ]
  },
  {
   "cell_type": "markdown",
   "metadata": {},
   "source": [
    "The Dataset is obtained from crowdflower and it has 9000 rows and 3 columns. After obtaining the data, started with the pre-processing of the dataset and it includes \n",
    "\n",
    "- Data cleaning and exploration to sort into relevant categories\n",
    "- Tokenization of words and removal of stop words\n",
    "- Vectorization of text data using TF-IDF(Term Frequency Inverse Document Frequency)\n",
    "\n",
    "This is a multiclass problem, where sentiments are either negative, positive, or neutral. "
   ]
  },
  {
   "cell_type": "markdown",
   "metadata": {},
   "source": [
    "Our first step is to import all the necessary packages and load the dataframe.\n",
    "\n"
   ]
  },
  {
   "cell_type": "code",
   "execution_count": 1,
   "metadata": {
    "scrolled": true
   },
   "outputs": [
    {
     "name": "stderr",
     "output_type": "stream",
     "text": [
      "[nltk_data] Downloading package stopwords to\n",
      "[nltk_data]     /Users/prabaginithambinathan/nltk_data...\n",
      "[nltk_data]   Package stopwords is already up-to-date!\n",
      "[nltk_data] Downloading package punkt to\n",
      "[nltk_data]     /Users/prabaginithambinathan/nltk_data...\n",
      "[nltk_data]   Package punkt is already up-to-date!\n",
      "[nltk_data] Downloading package wordnet to\n",
      "[nltk_data]     /Users/prabaginithambinathan/nltk_data...\n",
      "[nltk_data]   Package wordnet is already up-to-date!\n"
     ]
    }
   ],
   "source": [
    "# Import Necessary Libraries \n",
    "import pandas as pd\n",
    "import numpy as np\n",
    "import matplotlib.pyplot as plt\n",
    "import seaborn as sns\n",
    "import nltk\n",
    "from nltk.corpus import stopwords\n",
    "from matplotlib import cm\n",
    "from sklearn import metrics\n",
    "from sklearn.model_selection import train_test_split, cross_validate, KFold, GridSearchCV, cross_val_score\n",
    "from nltk.stem import WordNetLemmatizer \n",
    "from sklearn.feature_extraction.text import TfidfVectorizer, TfidfTransformer\n",
    "from sklearn.ensemble import RandomForestClassifier\n",
    "from sklearn.metrics import confusion_matrix, plot_confusion_matrix, accuracy_score, recall_score\n",
    "from nltk.probability import FreqDist\n",
    "from sklearn.linear_model import LogisticRegression\n",
    "from sklearn.tree import DecisionTreeClassifier\n",
    "from sklearn.naive_bayes import MultinomialNB\n",
    "import xgboost as xgb\n",
    "from xgboost import XGBClassifier\n",
    "\n",
    "from wordcloud import WordCloud\n",
    "#imblearn\n",
    "from imblearn.over_sampling import SMOTE\n",
    "from imblearn.pipeline import make_pipeline\n",
    "\n",
    "import string, re\n",
    "nltk.download('stopwords')\n",
    "nltk.download('punkt')\n",
    "nltk.download('wordnet')\n",
    "pd.set_option('display.max_columns', None)\n",
    "import warnings\n",
    "warnings.filterwarnings(\"ignore\")"
   ]
  },
  {
   "cell_type": "markdown",
   "metadata": {},
   "source": [
    "Obtained the dataset from CrowdFlower Source: https://data.world/crowdflower/brands-and-product-emotions"
   ]
  },
  {
   "cell_type": "code",
   "execution_count": 2,
   "metadata": {},
   "outputs": [],
   "source": [
    "#load the dataframe\n",
    "df = pd.read_csv('../Data/tweets.csv', encoding= 'unicode_escape')"
   ]
  },
  {
   "cell_type": "code",
   "execution_count": 3,
   "metadata": {},
   "outputs": [
    {
     "data": {
      "text/html": [
       "<div>\n",
       "<style scoped>\n",
       "    .dataframe tbody tr th:only-of-type {\n",
       "        vertical-align: middle;\n",
       "    }\n",
       "\n",
       "    .dataframe tbody tr th {\n",
       "        vertical-align: top;\n",
       "    }\n",
       "\n",
       "    .dataframe thead th {\n",
       "        text-align: right;\n",
       "    }\n",
       "</style>\n",
       "<table border=\"1\" class=\"dataframe\">\n",
       "  <thead>\n",
       "    <tr style=\"text-align: right;\">\n",
       "      <th></th>\n",
       "      <th>ï»¿tweet_text</th>\n",
       "      <th>emotion_in_tweet_is_directed_at</th>\n",
       "      <th>is_there_an_emotion_directed_at_a_brand_or_product</th>\n",
       "    </tr>\n",
       "  </thead>\n",
       "  <tbody>\n",
       "    <tr>\n",
       "      <th>0</th>\n",
       "      <td>.@wesley83 I have a 3G iPhone. After 3 hrs twe...</td>\n",
       "      <td>iPhone</td>\n",
       "      <td>Negative emotion</td>\n",
       "    </tr>\n",
       "    <tr>\n",
       "      <th>1</th>\n",
       "      <td>@jessedee Know about @fludapp ? Awesome iPad/i...</td>\n",
       "      <td>iPad or iPhone App</td>\n",
       "      <td>Positive emotion</td>\n",
       "    </tr>\n",
       "    <tr>\n",
       "      <th>2</th>\n",
       "      <td>@swonderlin Can not wait for #iPad 2 also. The...</td>\n",
       "      <td>iPad</td>\n",
       "      <td>Positive emotion</td>\n",
       "    </tr>\n",
       "    <tr>\n",
       "      <th>3</th>\n",
       "      <td>@sxsw I hope this year's festival isn't as cra...</td>\n",
       "      <td>iPad or iPhone App</td>\n",
       "      <td>Negative emotion</td>\n",
       "    </tr>\n",
       "    <tr>\n",
       "      <th>4</th>\n",
       "      <td>@sxtxstate great stuff on Fri #SXSW: Marissa M...</td>\n",
       "      <td>Google</td>\n",
       "      <td>Positive emotion</td>\n",
       "    </tr>\n",
       "  </tbody>\n",
       "</table>\n",
       "</div>"
      ],
      "text/plain": [
       "                                       ï»¿tweet_text  \\\n",
       "0  .@wesley83 I have a 3G iPhone. After 3 hrs twe...   \n",
       "1  @jessedee Know about @fludapp ? Awesome iPad/i...   \n",
       "2  @swonderlin Can not wait for #iPad 2 also. The...   \n",
       "3  @sxsw I hope this year's festival isn't as cra...   \n",
       "4  @sxtxstate great stuff on Fri #SXSW: Marissa M...   \n",
       "\n",
       "  emotion_in_tweet_is_directed_at  \\\n",
       "0                          iPhone   \n",
       "1              iPad or iPhone App   \n",
       "2                            iPad   \n",
       "3              iPad or iPhone App   \n",
       "4                          Google   \n",
       "\n",
       "  is_there_an_emotion_directed_at_a_brand_or_product  \n",
       "0                                   Negative emotion  \n",
       "1                                   Positive emotion  \n",
       "2                                   Positive emotion  \n",
       "3                                   Negative emotion  \n",
       "4                                   Positive emotion  "
      ]
     },
     "execution_count": 3,
     "metadata": {},
     "output_type": "execute_result"
    }
   ],
   "source": [
    "# Preview first five rows of our data\n",
    "df.head()"
   ]
  },
  {
   "cell_type": "code",
   "execution_count": 4,
   "metadata": {},
   "outputs": [
    {
     "name": "stdout",
     "output_type": "stream",
     "text": [
      "<class 'pandas.core.frame.DataFrame'>\n",
      "RangeIndex: 9288 entries, 0 to 9287\n",
      "Data columns (total 3 columns):\n",
      " #   Column                                              Non-Null Count  Dtype \n",
      "---  ------                                              --------------  ----- \n",
      " 0   ï»¿tweet_text                                       9261 non-null   object\n",
      " 1   emotion_in_tweet_is_directed_at                     3291 non-null   object\n",
      " 2   is_there_an_emotion_directed_at_a_brand_or_product  9093 non-null   object\n",
      "dtypes: object(3)\n",
      "memory usage: 217.8+ KB\n"
     ]
    }
   ],
   "source": [
    "#check the info\n",
    "df.info()"
   ]
  },
  {
   "cell_type": "code",
   "execution_count": 5,
   "metadata": {},
   "outputs": [
    {
     "data": {
      "text/plain": [
       "(9288, 3)"
      ]
     },
     "execution_count": 5,
     "metadata": {},
     "output_type": "execute_result"
    }
   ],
   "source": [
    "#checking the shape of the dataframe\n",
    "df.shape"
   ]
  },
  {
   "cell_type": "markdown",
   "metadata": {},
   "source": [
    "Since the column names are very long, we are renaming them as ('tweet_text', 'tweet_product', 'emotion'). "
   ]
  },
  {
   "cell_type": "code",
   "execution_count": 6,
   "metadata": {},
   "outputs": [],
   "source": [
    "# Renaming the column names\n",
    "df.columns = ['tweet_text', 'tweet_product', 'emotion']"
   ]
  },
  {
   "cell_type": "code",
   "execution_count": 7,
   "metadata": {},
   "outputs": [
    {
     "data": {
      "text/html": [
       "<div>\n",
       "<style scoped>\n",
       "    .dataframe tbody tr th:only-of-type {\n",
       "        vertical-align: middle;\n",
       "    }\n",
       "\n",
       "    .dataframe tbody tr th {\n",
       "        vertical-align: top;\n",
       "    }\n",
       "\n",
       "    .dataframe thead th {\n",
       "        text-align: right;\n",
       "    }\n",
       "</style>\n",
       "<table border=\"1\" class=\"dataframe\">\n",
       "  <thead>\n",
       "    <tr style=\"text-align: right;\">\n",
       "      <th></th>\n",
       "      <th>tweet_text</th>\n",
       "      <th>tweet_product</th>\n",
       "      <th>emotion</th>\n",
       "    </tr>\n",
       "  </thead>\n",
       "  <tbody>\n",
       "    <tr>\n",
       "      <th>0</th>\n",
       "      <td>.@wesley83 I have a 3G iPhone. After 3 hrs twe...</td>\n",
       "      <td>iPhone</td>\n",
       "      <td>Negative emotion</td>\n",
       "    </tr>\n",
       "    <tr>\n",
       "      <th>1</th>\n",
       "      <td>@jessedee Know about @fludapp ? Awesome iPad/i...</td>\n",
       "      <td>iPad or iPhone App</td>\n",
       "      <td>Positive emotion</td>\n",
       "    </tr>\n",
       "    <tr>\n",
       "      <th>2</th>\n",
       "      <td>@swonderlin Can not wait for #iPad 2 also. The...</td>\n",
       "      <td>iPad</td>\n",
       "      <td>Positive emotion</td>\n",
       "    </tr>\n",
       "    <tr>\n",
       "      <th>3</th>\n",
       "      <td>@sxsw I hope this year's festival isn't as cra...</td>\n",
       "      <td>iPad or iPhone App</td>\n",
       "      <td>Negative emotion</td>\n",
       "    </tr>\n",
       "    <tr>\n",
       "      <th>4</th>\n",
       "      <td>@sxtxstate great stuff on Fri #SXSW: Marissa M...</td>\n",
       "      <td>Google</td>\n",
       "      <td>Positive emotion</td>\n",
       "    </tr>\n",
       "  </tbody>\n",
       "</table>\n",
       "</div>"
      ],
      "text/plain": [
       "                                          tweet_text       tweet_product  \\\n",
       "0  .@wesley83 I have a 3G iPhone. After 3 hrs twe...              iPhone   \n",
       "1  @jessedee Know about @fludapp ? Awesome iPad/i...  iPad or iPhone App   \n",
       "2  @swonderlin Can not wait for #iPad 2 also. The...                iPad   \n",
       "3  @sxsw I hope this year's festival isn't as cra...  iPad or iPhone App   \n",
       "4  @sxtxstate great stuff on Fri #SXSW: Marissa M...              Google   \n",
       "\n",
       "            emotion  \n",
       "0  Negative emotion  \n",
       "1  Positive emotion  \n",
       "2  Positive emotion  \n",
       "3  Negative emotion  \n",
       "4  Positive emotion  "
      ]
     },
     "execution_count": 7,
     "metadata": {},
     "output_type": "execute_result"
    }
   ],
   "source": [
    "#printing the first five rows of dataframe after renaming the column\n",
    "df.head()"
   ]
  },
  {
   "cell_type": "markdown",
   "metadata": {},
   "source": [
    "### Scrub"
   ]
  },
  {
   "cell_type": "markdown",
   "metadata": {},
   "source": [
    "In the Process of scrub, data cleaning starts with checking for duplicates and null values.  "
   ]
  },
  {
   "cell_type": "markdown",
   "metadata": {},
   "source": [
    "Let's see if there is any null values in the given datasets"
   ]
  },
  {
   "cell_type": "code",
   "execution_count": 8,
   "metadata": {},
   "outputs": [
    {
     "data": {
      "text/plain": [
       "tweet_text         27\n",
       "tweet_product    5997\n",
       "emotion           195\n",
       "dtype: int64"
      ]
     },
     "execution_count": 8,
     "metadata": {},
     "output_type": "execute_result"
    }
   ],
   "source": [
    "#checking for the null values\n",
    "df.isna().sum()"
   ]
  },
  {
   "cell_type": "code",
   "execution_count": 9,
   "metadata": {},
   "outputs": [
    {
     "data": {
      "text/html": [
       "<div>\n",
       "<style scoped>\n",
       "    .dataframe tbody tr th:only-of-type {\n",
       "        vertical-align: middle;\n",
       "    }\n",
       "\n",
       "    .dataframe tbody tr th {\n",
       "        vertical-align: top;\n",
       "    }\n",
       "\n",
       "    .dataframe thead th {\n",
       "        text-align: right;\n",
       "    }\n",
       "</style>\n",
       "<table border=\"1\" class=\"dataframe\">\n",
       "  <thead>\n",
       "    <tr style=\"text-align: right;\">\n",
       "      <th></th>\n",
       "      <th>tweet_text</th>\n",
       "      <th>tweet_product</th>\n",
       "      <th>emotion</th>\n",
       "    </tr>\n",
       "  </thead>\n",
       "  <tbody>\n",
       "    <tr>\n",
       "      <th>6</th>\n",
       "      <td>NaN</td>\n",
       "      <td>NaN</td>\n",
       "      <td>No emotion toward brand or product</td>\n",
       "    </tr>\n",
       "    <tr>\n",
       "      <th>181</th>\n",
       "      <td>NaN</td>\n",
       "      <td>NaN</td>\n",
       "      <td>NaN</td>\n",
       "    </tr>\n",
       "    <tr>\n",
       "      <th>183</th>\n",
       "      <td>NaN</td>\n",
       "      <td>NaN</td>\n",
       "      <td>NaN</td>\n",
       "    </tr>\n",
       "    <tr>\n",
       "      <th>185</th>\n",
       "      <td>NaN</td>\n",
       "      <td>NaN</td>\n",
       "      <td>NaN</td>\n",
       "    </tr>\n",
       "    <tr>\n",
       "      <th>408</th>\n",
       "      <td>NaN</td>\n",
       "      <td>NaN</td>\n",
       "      <td>NaN</td>\n",
       "    </tr>\n",
       "    <tr>\n",
       "      <th>409</th>\n",
       "      <td>NaN</td>\n",
       "      <td>NaN</td>\n",
       "      <td>NaN</td>\n",
       "    </tr>\n",
       "    <tr>\n",
       "      <th>593</th>\n",
       "      <td>NaN</td>\n",
       "      <td>NaN</td>\n",
       "      <td>NaN</td>\n",
       "    </tr>\n",
       "    <tr>\n",
       "      <th>1359</th>\n",
       "      <td>NaN</td>\n",
       "      <td>NaN</td>\n",
       "      <td>NaN</td>\n",
       "    </tr>\n",
       "    <tr>\n",
       "      <th>1501</th>\n",
       "      <td>NaN</td>\n",
       "      <td>NaN</td>\n",
       "      <td>NaN</td>\n",
       "    </tr>\n",
       "    <tr>\n",
       "      <th>1597</th>\n",
       "      <td>NaN</td>\n",
       "      <td>NaN</td>\n",
       "      <td>NaN</td>\n",
       "    </tr>\n",
       "    <tr>\n",
       "      <th>2381</th>\n",
       "      <td>NaN</td>\n",
       "      <td>NaN</td>\n",
       "      <td>NaN</td>\n",
       "    </tr>\n",
       "    <tr>\n",
       "      <th>3165</th>\n",
       "      <td>NaN</td>\n",
       "      <td>NaN</td>\n",
       "      <td>NaN</td>\n",
       "    </tr>\n",
       "    <tr>\n",
       "      <th>3991</th>\n",
       "      <td>NaN</td>\n",
       "      <td>NaN</td>\n",
       "      <td>NaN</td>\n",
       "    </tr>\n",
       "    <tr>\n",
       "      <th>4594</th>\n",
       "      <td>NaN</td>\n",
       "      <td>NaN</td>\n",
       "      <td>NaN</td>\n",
       "    </tr>\n",
       "    <tr>\n",
       "      <th>5090</th>\n",
       "      <td>NaN</td>\n",
       "      <td>NaN</td>\n",
       "      <td>NaN</td>\n",
       "    </tr>\n",
       "    <tr>\n",
       "      <th>5092</th>\n",
       "      <td>NaN</td>\n",
       "      <td>NaN</td>\n",
       "      <td>NaN</td>\n",
       "    </tr>\n",
       "    <tr>\n",
       "      <th>5270</th>\n",
       "      <td>NaN</td>\n",
       "      <td>NaN</td>\n",
       "      <td>NaN</td>\n",
       "    </tr>\n",
       "    <tr>\n",
       "      <th>5273</th>\n",
       "      <td>NaN</td>\n",
       "      <td>NaN</td>\n",
       "      <td>NaN</td>\n",
       "    </tr>\n",
       "    <tr>\n",
       "      <th>5614</th>\n",
       "      <td>NaN</td>\n",
       "      <td>NaN</td>\n",
       "      <td>NaN</td>\n",
       "    </tr>\n",
       "    <tr>\n",
       "      <th>5616</th>\n",
       "      <td>NaN</td>\n",
       "      <td>NaN</td>\n",
       "      <td>NaN</td>\n",
       "    </tr>\n",
       "    <tr>\n",
       "      <th>6016</th>\n",
       "      <td>NaN</td>\n",
       "      <td>NaN</td>\n",
       "      <td>NaN</td>\n",
       "    </tr>\n",
       "    <tr>\n",
       "      <th>6194</th>\n",
       "      <td>NaN</td>\n",
       "      <td>NaN</td>\n",
       "      <td>NaN</td>\n",
       "    </tr>\n",
       "    <tr>\n",
       "      <th>6280</th>\n",
       "      <td>NaN</td>\n",
       "      <td>NaN</td>\n",
       "      <td>NaN</td>\n",
       "    </tr>\n",
       "    <tr>\n",
       "      <th>6382</th>\n",
       "      <td>NaN</td>\n",
       "      <td>NaN</td>\n",
       "      <td>NaN</td>\n",
       "    </tr>\n",
       "    <tr>\n",
       "      <th>7714</th>\n",
       "      <td>NaN</td>\n",
       "      <td>NaN</td>\n",
       "      <td>NaN</td>\n",
       "    </tr>\n",
       "    <tr>\n",
       "      <th>8913</th>\n",
       "      <td>NaN</td>\n",
       "      <td>NaN</td>\n",
       "      <td>NaN</td>\n",
       "    </tr>\n",
       "    <tr>\n",
       "      <th>9099</th>\n",
       "      <td>NaN</td>\n",
       "      <td>NaN</td>\n",
       "      <td>NaN</td>\n",
       "    </tr>\n",
       "  </tbody>\n",
       "</table>\n",
       "</div>"
      ],
      "text/plain": [
       "     tweet_text tweet_product                             emotion\n",
       "6           NaN           NaN  No emotion toward brand or product\n",
       "181         NaN           NaN                                 NaN\n",
       "183         NaN           NaN                                 NaN\n",
       "185         NaN           NaN                                 NaN\n",
       "408         NaN           NaN                                 NaN\n",
       "409         NaN           NaN                                 NaN\n",
       "593         NaN           NaN                                 NaN\n",
       "1359        NaN           NaN                                 NaN\n",
       "1501        NaN           NaN                                 NaN\n",
       "1597        NaN           NaN                                 NaN\n",
       "2381        NaN           NaN                                 NaN\n",
       "3165        NaN           NaN                                 NaN\n",
       "3991        NaN           NaN                                 NaN\n",
       "4594        NaN           NaN                                 NaN\n",
       "5090        NaN           NaN                                 NaN\n",
       "5092        NaN           NaN                                 NaN\n",
       "5270        NaN           NaN                                 NaN\n",
       "5273        NaN           NaN                                 NaN\n",
       "5614        NaN           NaN                                 NaN\n",
       "5616        NaN           NaN                                 NaN\n",
       "6016        NaN           NaN                                 NaN\n",
       "6194        NaN           NaN                                 NaN\n",
       "6280        NaN           NaN                                 NaN\n",
       "6382        NaN           NaN                                 NaN\n",
       "7714        NaN           NaN                                 NaN\n",
       "8913        NaN           NaN                                 NaN\n",
       "9099        NaN           NaN                                 NaN"
      ]
     },
     "execution_count": 9,
     "metadata": {},
     "output_type": "execute_result"
    }
   ],
   "source": [
    "#checking the tweet_text column null values\n",
    "df[df['tweet_text'].isnull()]"
   ]
  },
  {
   "cell_type": "markdown",
   "metadata": {},
   "source": [
    "### Drop the null tweet"
   ]
  },
  {
   "cell_type": "code",
   "execution_count": 10,
   "metadata": {},
   "outputs": [],
   "source": [
    "#dropping the null values from tweet_text column\n",
    "df.dropna(subset = ['tweet_text'], inplace = True)"
   ]
  },
  {
   "cell_type": "code",
   "execution_count": 11,
   "metadata": {},
   "outputs": [
    {
     "data": {
      "text/plain": [
       "tweet_text          0\n",
       "tweet_product    5970\n",
       "emotion           169\n",
       "dtype: int64"
      ]
     },
     "execution_count": 11,
     "metadata": {},
     "output_type": "execute_result"
    }
   ],
   "source": [
    "#checking for the null values\n",
    "df.isna().sum()"
   ]
  },
  {
   "cell_type": "markdown",
   "metadata": {},
   "source": [
    "Checking for Duplicated Tweets:"
   ]
  },
  {
   "cell_type": "markdown",
   "metadata": {},
   "source": [
    "If there are duplicated tweets, they won't add useful information and we will drop them."
   ]
  },
  {
   "cell_type": "code",
   "execution_count": 12,
   "metadata": {},
   "outputs": [
    {
     "data": {
      "text/plain": [
       "(9261, 3)"
      ]
     },
     "execution_count": 12,
     "metadata": {},
     "output_type": "execute_result"
    }
   ],
   "source": [
    "#shape of the dataframe\n",
    "df.shape"
   ]
  },
  {
   "cell_type": "code",
   "execution_count": 13,
   "metadata": {},
   "outputs": [],
   "source": [
    "# filtering duplicates\n",
    "duplicates = df[df['tweet_text'].duplicated()]"
   ]
  },
  {
   "cell_type": "code",
   "execution_count": 14,
   "metadata": {},
   "outputs": [
    {
     "data": {
      "text/plain": [
       "94"
      ]
     },
     "execution_count": 14,
     "metadata": {},
     "output_type": "execute_result"
    }
   ],
   "source": [
    "len(duplicates)"
   ]
  },
  {
   "cell_type": "code",
   "execution_count": 15,
   "metadata": {},
   "outputs": [
    {
     "data": {
      "text/html": [
       "<div>\n",
       "<style scoped>\n",
       "    .dataframe tbody tr th:only-of-type {\n",
       "        vertical-align: middle;\n",
       "    }\n",
       "\n",
       "    .dataframe tbody tr th {\n",
       "        vertical-align: top;\n",
       "    }\n",
       "\n",
       "    .dataframe thead th {\n",
       "        text-align: right;\n",
       "    }\n",
       "</style>\n",
       "<table border=\"1\" class=\"dataframe\">\n",
       "  <thead>\n",
       "    <tr style=\"text-align: right;\">\n",
       "      <th></th>\n",
       "      <th>tweet_text</th>\n",
       "      <th>tweet_product</th>\n",
       "      <th>emotion</th>\n",
       "    </tr>\n",
       "  </thead>\n",
       "  <tbody>\n",
       "    <tr>\n",
       "      <th>406</th>\n",
       "      <td>The Daily Chord - Tuesday, March 8:Â</td>\n",
       "      <td>NaN</td>\n",
       "      <td>No emotion toward brand or product</td>\n",
       "    </tr>\n",
       "    <tr>\n",
       "      <th>453</th>\n",
       "      <td>{link} #SXSW #UXDes</td>\n",
       "      <td>NaN</td>\n",
       "      <td>NaN</td>\n",
       "    </tr>\n",
       "    <tr>\n",
       "      <th>455</th>\n",
       "      <td>{link} #SXSW #UXDes</td>\n",
       "      <td>NaN</td>\n",
       "      <td>NaN</td>\n",
       "    </tr>\n",
       "    <tr>\n",
       "      <th>488</th>\n",
       "      <td>Before It Even Begins, Apple Wins #SXSW {link}</td>\n",
       "      <td>Apple</td>\n",
       "      <td>Positive emotion</td>\n",
       "    </tr>\n",
       "    <tr>\n",
       "      <th>595</th>\n",
       "      <td>â°Ð«Ð@mention Google to Launch Major New Soc...</td>\n",
       "      <td>Other Google product or service</td>\n",
       "      <td>Negative emotion</td>\n",
       "    </tr>\n",
       "    <tr>\n",
       "      <th>...</th>\n",
       "      <td>...</td>\n",
       "      <td>...</td>\n",
       "      <td>...</td>\n",
       "    </tr>\n",
       "    <tr>\n",
       "      <th>8914</th>\n",
       "      <td>#StartupBus #SXSW</td>\n",
       "      <td>NaN</td>\n",
       "      <td>NaN</td>\n",
       "    </tr>\n",
       "    <tr>\n",
       "      <th>8936</th>\n",
       "      <td>#woohoo</td>\n",
       "      <td>NaN</td>\n",
       "      <td>NaN</td>\n",
       "    </tr>\n",
       "    <tr>\n",
       "      <th>8939</th>\n",
       "      <td>Need to buy an iPad2 while I'm in Austin at #s...</td>\n",
       "      <td>iPad</td>\n",
       "      <td>Positive emotion</td>\n",
       "    </tr>\n",
       "    <tr>\n",
       "      <th>9100</th>\n",
       "      <td>Apple is opening a pop-up store in Austin for ...</td>\n",
       "      <td>NaN</td>\n",
       "      <td>NaN</td>\n",
       "    </tr>\n",
       "    <tr>\n",
       "      <th>9137</th>\n",
       "      <td>{link}</td>\n",
       "      <td>NaN</td>\n",
       "      <td>NaN</td>\n",
       "    </tr>\n",
       "  </tbody>\n",
       "</table>\n",
       "<p>94 rows × 3 columns</p>\n",
       "</div>"
      ],
      "text/plain": [
       "                                             tweet_text  \\\n",
       "406               The Daily Chord - Tuesday, March 8:Â    \n",
       "453                                 {link} #SXSW #UXDes   \n",
       "455                                 {link} #SXSW #UXDes   \n",
       "488      Before It Even Begins, Apple Wins #SXSW {link}   \n",
       "595   â°Ð«Ð@mention Google to Launch Major New Soc...   \n",
       "...                                                 ...   \n",
       "8914                                  #StartupBus #SXSW   \n",
       "8936                                            #woohoo   \n",
       "8939  Need to buy an iPad2 while I'm in Austin at #s...   \n",
       "9100  Apple is opening a pop-up store in Austin for ...   \n",
       "9137                                             {link}   \n",
       "\n",
       "                        tweet_product                             emotion  \n",
       "406                               NaN  No emotion toward brand or product  \n",
       "453                               NaN                                 NaN  \n",
       "455                               NaN                                 NaN  \n",
       "488                             Apple                    Positive emotion  \n",
       "595   Other Google product or service                    Negative emotion  \n",
       "...                               ...                                 ...  \n",
       "8914                              NaN                                 NaN  \n",
       "8936                              NaN                                 NaN  \n",
       "8939                             iPad                    Positive emotion  \n",
       "9100                              NaN                                 NaN  \n",
       "9137                              NaN                                 NaN  \n",
       "\n",
       "[94 rows x 3 columns]"
      ]
     },
     "execution_count": 15,
     "metadata": {},
     "output_type": "execute_result"
    }
   ],
   "source": [
    "#there are duplicates present in the dataset.\n",
    "duplicates"
   ]
  },
  {
   "cell_type": "code",
   "execution_count": 16,
   "metadata": {},
   "outputs": [],
   "source": [
    "#Dropping the duplicates\n",
    "df.drop_duplicates(subset='tweet_text',inplace=True)"
   ]
  },
  {
   "cell_type": "code",
   "execution_count": 17,
   "metadata": {},
   "outputs": [
    {
     "data": {
      "text/plain": [
       "(9167, 3)"
      ]
     },
     "execution_count": 17,
     "metadata": {},
     "output_type": "execute_result"
    }
   ],
   "source": [
    "df.shape"
   ]
  },
  {
   "cell_type": "code",
   "execution_count": 18,
   "metadata": {},
   "outputs": [
    {
     "data": {
      "text/plain": [
       "No emotion toward brand or product    5365\n",
       "Positive emotion                      2967\n",
       "Negative emotion                       568\n",
       "I can't tell                           156\n",
       "NaN                                    111\n",
       "Name: emotion, dtype: int64"
      ]
     },
     "execution_count": 18,
     "metadata": {},
     "output_type": "execute_result"
    }
   ],
   "source": [
    "# reviewing values for target data\n",
    "df.emotion.value_counts(dropna=False)"
   ]
  },
  {
   "cell_type": "markdown",
   "metadata": {},
   "source": [
    "Since the NaN value is 111, we will drop these values. "
   ]
  },
  {
   "cell_type": "code",
   "execution_count": 19,
   "metadata": {},
   "outputs": [],
   "source": [
    "#Dropping the null values from the emotion column\n",
    "df.dropna(subset=['emotion'], inplace=True)"
   ]
  },
  {
   "cell_type": "code",
   "execution_count": 20,
   "metadata": {},
   "outputs": [
    {
     "data": {
      "text/plain": [
       "No emotion toward brand or product    5365\n",
       "Positive emotion                      2967\n",
       "Negative emotion                       568\n",
       "I can't tell                           156\n",
       "Name: emotion, dtype: int64"
      ]
     },
     "execution_count": 20,
     "metadata": {},
     "output_type": "execute_result"
    }
   ],
   "source": [
    "#check the value counts for emotion column\n",
    "df.emotion.value_counts(dropna=False)"
   ]
  },
  {
   "cell_type": "code",
   "execution_count": 21,
   "metadata": {},
   "outputs": [
    {
     "data": {
      "text/html": [
       "<div>\n",
       "<style scoped>\n",
       "    .dataframe tbody tr th:only-of-type {\n",
       "        vertical-align: middle;\n",
       "    }\n",
       "\n",
       "    .dataframe tbody tr th {\n",
       "        vertical-align: top;\n",
       "    }\n",
       "\n",
       "    .dataframe thead th {\n",
       "        text-align: right;\n",
       "    }\n",
       "</style>\n",
       "<table border=\"1\" class=\"dataframe\">\n",
       "  <thead>\n",
       "    <tr style=\"text-align: right;\">\n",
       "      <th></th>\n",
       "      <th>tweet_text</th>\n",
       "      <th>tweet_product</th>\n",
       "      <th>emotion</th>\n",
       "    </tr>\n",
       "  </thead>\n",
       "  <tbody>\n",
       "    <tr>\n",
       "      <th>90</th>\n",
       "      <td>Thanks to @mention for publishing the news of ...</td>\n",
       "      <td>NaN</td>\n",
       "      <td>I can't tell</td>\n",
       "    </tr>\n",
       "    <tr>\n",
       "      <th>102</th>\n",
       "      <td>â°Ð«Ð@mention &amp;quot;Apple has opened a pop-u...</td>\n",
       "      <td>NaN</td>\n",
       "      <td>I can't tell</td>\n",
       "    </tr>\n",
       "    <tr>\n",
       "      <th>244</th>\n",
       "      <td>Just what America needs. RT @mention Google to...</td>\n",
       "      <td>NaN</td>\n",
       "      <td>I can't tell</td>\n",
       "    </tr>\n",
       "    <tr>\n",
       "      <th>348</th>\n",
       "      <td>The queue at the Apple Store in Austin is FOUR...</td>\n",
       "      <td>NaN</td>\n",
       "      <td>I can't tell</td>\n",
       "    </tr>\n",
       "    <tr>\n",
       "      <th>375</th>\n",
       "      <td>Hope it's better than wave RT @mention Buzz is...</td>\n",
       "      <td>NaN</td>\n",
       "      <td>I can't tell</td>\n",
       "    </tr>\n",
       "    <tr>\n",
       "      <th>...</th>\n",
       "      <td>...</td>\n",
       "      <td>...</td>\n",
       "      <td>...</td>\n",
       "    </tr>\n",
       "    <tr>\n",
       "      <th>9215</th>\n",
       "      <td>It's funny watching a room full of people hold...</td>\n",
       "      <td>NaN</td>\n",
       "      <td>I can't tell</td>\n",
       "    </tr>\n",
       "    <tr>\n",
       "      <th>9227</th>\n",
       "      <td>@mention yeah, we have @mention , Google has n...</td>\n",
       "      <td>NaN</td>\n",
       "      <td>I can't tell</td>\n",
       "    </tr>\n",
       "    <tr>\n",
       "      <th>9232</th>\n",
       "      <td>@mention Yes, the Google presentation was not ...</td>\n",
       "      <td>NaN</td>\n",
       "      <td>I can't tell</td>\n",
       "    </tr>\n",
       "    <tr>\n",
       "      <th>9253</th>\n",
       "      <td>&amp;quot;Do you know what Apple is really good at...</td>\n",
       "      <td>NaN</td>\n",
       "      <td>I can't tell</td>\n",
       "    </tr>\n",
       "    <tr>\n",
       "      <th>9261</th>\n",
       "      <td>How much you want to bet Apple is disproportio...</td>\n",
       "      <td>Apple</td>\n",
       "      <td>I can't tell</td>\n",
       "    </tr>\n",
       "  </tbody>\n",
       "</table>\n",
       "<p>156 rows × 3 columns</p>\n",
       "</div>"
      ],
      "text/plain": [
       "                                             tweet_text tweet_product  \\\n",
       "90    Thanks to @mention for publishing the news of ...           NaN   \n",
       "102   â°Ð«Ð@mention &quot;Apple has opened a pop-u...           NaN   \n",
       "244   Just what America needs. RT @mention Google to...           NaN   \n",
       "348   The queue at the Apple Store in Austin is FOUR...           NaN   \n",
       "375   Hope it's better than wave RT @mention Buzz is...           NaN   \n",
       "...                                                 ...           ...   \n",
       "9215  It's funny watching a room full of people hold...           NaN   \n",
       "9227  @mention yeah, we have @mention , Google has n...           NaN   \n",
       "9232  @mention Yes, the Google presentation was not ...           NaN   \n",
       "9253  &quot;Do you know what Apple is really good at...           NaN   \n",
       "9261  How much you want to bet Apple is disproportio...         Apple   \n",
       "\n",
       "           emotion  \n",
       "90    I can't tell  \n",
       "102   I can't tell  \n",
       "244   I can't tell  \n",
       "348   I can't tell  \n",
       "375   I can't tell  \n",
       "...            ...  \n",
       "9215  I can't tell  \n",
       "9227  I can't tell  \n",
       "9232  I can't tell  \n",
       "9253  I can't tell  \n",
       "9261  I can't tell  \n",
       "\n",
       "[156 rows x 3 columns]"
      ]
     },
     "execution_count": 21,
     "metadata": {},
     "output_type": "execute_result"
    }
   ],
   "source": [
    "# creating a variable to extract 'I can't tell' emotion\n",
    "cant_tell = df[df.emotion == \"I can't tell\"]\n",
    "cant_tell"
   ]
  },
  {
   "cell_type": "code",
   "execution_count": 22,
   "metadata": {},
   "outputs": [],
   "source": [
    "# drop cant_tell rows, only want positive/negative/neutral emotion \n",
    "df.drop(cant_tell.index, inplace = True)"
   ]
  },
  {
   "cell_type": "code",
   "execution_count": 23,
   "metadata": {},
   "outputs": [
    {
     "data": {
      "text/plain": [
       "(8900, 3)"
      ]
     },
     "execution_count": 23,
     "metadata": {},
     "output_type": "execute_result"
    }
   ],
   "source": [
    "# check the shape of dataset\n",
    "df.shape"
   ]
  },
  {
   "cell_type": "code",
   "execution_count": 24,
   "metadata": {},
   "outputs": [
    {
     "data": {
      "text/plain": [
       "No emotion toward brand or product    5365\n",
       "Positive emotion                      2967\n",
       "Negative emotion                       568\n",
       "Name: emotion, dtype: int64"
      ]
     },
     "execution_count": 24,
     "metadata": {},
     "output_type": "execute_result"
    }
   ],
   "source": [
    "#check the value count of the emotion column\n",
    "df.emotion.value_counts(dropna=False)"
   ]
  },
  {
   "cell_type": "markdown",
   "metadata": {},
   "source": [
    "No emotion toward brand or product says that they have neutral emotion towards the tweet. It is either poisitve or negative. lets remap the category No emotion toward brand or product to neutral emotion."
   ]
  },
  {
   "cell_type": "code",
   "execution_count": 25,
   "metadata": {},
   "outputs": [
    {
     "data": {
      "text/plain": [
       "Neutral emotion     5365\n",
       "Positive emotion    2967\n",
       "Negative emotion     568\n",
       "Name: emotion, dtype: int64"
      ]
     },
     "execution_count": 25,
     "metadata": {},
     "output_type": "execute_result"
    }
   ],
   "source": [
    "#remap categories \n",
    "emotion_map = {'No emotion toward brand or product': 'Neutral emotion', \n",
    "              'Positive emotion': 'Positive emotion',\n",
    "              'Negative emotion': 'Negative emotion'}\n",
    "\n",
    "df.emotion = df.emotion.map(emotion_map)\n",
    "df.emotion.value_counts()"
   ]
  },
  {
   "cell_type": "code",
   "execution_count": 26,
   "metadata": {},
   "outputs": [
    {
     "data": {
      "text/plain": [
       "NaN                                5631\n",
       "iPad                                939\n",
       "Apple                               657\n",
       "iPad or iPhone App                  468\n",
       "Google                              427\n",
       "iPhone                              295\n",
       "Other Google product or service     291\n",
       "Android App                          80\n",
       "Android                              77\n",
       "Other Apple product or service       35\n",
       "Name: tweet_product, dtype: int64"
      ]
     },
     "execution_count": 26,
     "metadata": {},
     "output_type": "execute_result"
    }
   ],
   "source": [
    "# check the value counts for column tweet_product \n",
    "df.tweet_product.value_counts(dropna=False)"
   ]
  },
  {
   "cell_type": "markdown",
   "metadata": {},
   "source": [
    "### Explore"
   ]
  },
  {
   "cell_type": "markdown",
   "metadata": {},
   "source": [
    "The next step is to explore the given dataset with data visualization.\n",
    "\n"
   ]
  },
  {
   "cell_type": "markdown",
   "metadata": {},
   "source": [
    "Creating a column for company in dataframe"
   ]
  },
  {
   "cell_type": "markdown",
   "metadata": {},
   "source": [
    "The function to separate the Apple and Google product or services and create column 'company'."
   ]
  },
  {
   "cell_type": "code",
   "execution_count": 27,
   "metadata": {},
   "outputs": [],
   "source": [
    "#fuction to separate Apple and Google products\n",
    "def get_company(row):\n",
    "    lst = ['iPad','Apple','iPad or iPhone App','iPhone','Other Apple product or service']\n",
    "    if row['tweet_product'] is np.nan:\n",
    "        return np.nan\n",
    "    if row['tweet_product'] in lst:\n",
    "        return 'Apple'\n",
    "    else:\n",
    "        return 'Google'"
   ]
  },
  {
   "cell_type": "code",
   "execution_count": 28,
   "metadata": {},
   "outputs": [],
   "source": [
    "#creating the column company in dataframe\n",
    "df['company'] = df.apply(get_company, axis = 1)"
   ]
  },
  {
   "cell_type": "code",
   "execution_count": 29,
   "metadata": {},
   "outputs": [
    {
     "data": {
      "text/html": [
       "<div>\n",
       "<style scoped>\n",
       "    .dataframe tbody tr th:only-of-type {\n",
       "        vertical-align: middle;\n",
       "    }\n",
       "\n",
       "    .dataframe tbody tr th {\n",
       "        vertical-align: top;\n",
       "    }\n",
       "\n",
       "    .dataframe thead th {\n",
       "        text-align: right;\n",
       "    }\n",
       "</style>\n",
       "<table border=\"1\" class=\"dataframe\">\n",
       "  <thead>\n",
       "    <tr style=\"text-align: right;\">\n",
       "      <th></th>\n",
       "      <th>tweet_text</th>\n",
       "      <th>tweet_product</th>\n",
       "      <th>emotion</th>\n",
       "      <th>company</th>\n",
       "    </tr>\n",
       "  </thead>\n",
       "  <tbody>\n",
       "    <tr>\n",
       "      <th>0</th>\n",
       "      <td>.@wesley83 I have a 3G iPhone. After 3 hrs twe...</td>\n",
       "      <td>iPhone</td>\n",
       "      <td>Negative emotion</td>\n",
       "      <td>Apple</td>\n",
       "    </tr>\n",
       "    <tr>\n",
       "      <th>1</th>\n",
       "      <td>@jessedee Know about @fludapp ? Awesome iPad/i...</td>\n",
       "      <td>iPad or iPhone App</td>\n",
       "      <td>Positive emotion</td>\n",
       "      <td>Apple</td>\n",
       "    </tr>\n",
       "    <tr>\n",
       "      <th>2</th>\n",
       "      <td>@swonderlin Can not wait for #iPad 2 also. The...</td>\n",
       "      <td>iPad</td>\n",
       "      <td>Positive emotion</td>\n",
       "      <td>Apple</td>\n",
       "    </tr>\n",
       "    <tr>\n",
       "      <th>3</th>\n",
       "      <td>@sxsw I hope this year's festival isn't as cra...</td>\n",
       "      <td>iPad or iPhone App</td>\n",
       "      <td>Negative emotion</td>\n",
       "      <td>Apple</td>\n",
       "    </tr>\n",
       "    <tr>\n",
       "      <th>4</th>\n",
       "      <td>@sxtxstate great stuff on Fri #SXSW: Marissa M...</td>\n",
       "      <td>Google</td>\n",
       "      <td>Positive emotion</td>\n",
       "      <td>Google</td>\n",
       "    </tr>\n",
       "  </tbody>\n",
       "</table>\n",
       "</div>"
      ],
      "text/plain": [
       "                                          tweet_text       tweet_product  \\\n",
       "0  .@wesley83 I have a 3G iPhone. After 3 hrs twe...              iPhone   \n",
       "1  @jessedee Know about @fludapp ? Awesome iPad/i...  iPad or iPhone App   \n",
       "2  @swonderlin Can not wait for #iPad 2 also. The...                iPad   \n",
       "3  @sxsw I hope this year's festival isn't as cra...  iPad or iPhone App   \n",
       "4  @sxtxstate great stuff on Fri #SXSW: Marissa M...              Google   \n",
       "\n",
       "            emotion company  \n",
       "0  Negative emotion   Apple  \n",
       "1  Positive emotion   Apple  \n",
       "2  Positive emotion   Apple  \n",
       "3  Negative emotion   Apple  \n",
       "4  Positive emotion  Google  "
      ]
     },
     "execution_count": 29,
     "metadata": {},
     "output_type": "execute_result"
    }
   ],
   "source": [
    "#printing the first 5 rows of dataframe\n",
    "df.head()"
   ]
  },
  {
   "cell_type": "code",
   "execution_count": 30,
   "metadata": {},
   "outputs": [
    {
     "data": {
      "text/plain": [
       "Apple     2394\n",
       "Google     875\n",
       "Name: company, dtype: int64"
      ]
     },
     "execution_count": 30,
     "metadata": {},
     "output_type": "execute_result"
    }
   ],
   "source": [
    "#checking the values of company column\n",
    "df['company'].value_counts()"
   ]
  },
  {
   "cell_type": "markdown",
   "metadata": {},
   "source": [
    "Using seaborn counterplot, plotting the graph to compare the tweet between both the brands."
   ]
  },
  {
   "cell_type": "code",
   "execution_count": 31,
   "metadata": {},
   "outputs": [
    {
     "data": {
      "image/png": "[encoded data removed]",
      "text/plain": [
       "<Figure size 576x576 with 1 Axes>"
      ]
     },
     "metadata": {
      "needs_background": "light"
     },
     "output_type": "display_data"
    }
   ],
   "source": [
    "#counterplot of company with emotion\n",
    "plt.figure(figsize=(8,8))\n",
    "sns.countplot(x=\"company\", data=df)\n",
    "plt.title('Apple vs Google Tweets Emotion')\n",
    "plt.show()"
   ]
  },
  {
   "cell_type": "markdown",
   "metadata": {},
   "source": [
    "From the above graph Apple has more tweets than Google."
   ]
  },
  {
   "cell_type": "code",
   "execution_count": 32,
   "metadata": {},
   "outputs": [
    {
     "data": {
      "image/png": "[encoded data removed]",
      "text/plain": [
       "<Figure size 576x576 with 1 Axes>"
      ]
     },
     "metadata": {
      "needs_background": "light"
     },
     "output_type": "display_data"
    }
   ],
   "source": [
    "#counterplot of company with emotion\n",
    "plt.figure(figsize=(8,8))\n",
    "sns.countplot(x=\"emotion\", data=df)\n",
    "plt.title('Negative, Positive and Neutral Emotions')\n",
    "plt.show()"
   ]
  },
  {
   "cell_type": "markdown",
   "metadata": {},
   "source": [
    "From the above graph it shows neutral emotion has more tweets than the negative and positive emotions"
   ]
  },
  {
   "cell_type": "markdown",
   "metadata": {},
   "source": [
    "I wanted to remove punctuation and word such as ''s', '2' from the tweets using stopwords. These words doesn't make any meaning to the tweets."
   ]
  },
  {
   "cell_type": "code",
   "execution_count": 33,
   "metadata": {},
   "outputs": [],
   "source": [
    "#list of stopwords in tweets\n",
    "stopwords_list = stopwords.words('english')\n",
    "stopwords_list += list(string.punctuation)\n",
    "stopwords_list += [\"''\", '\"\"', '...', '``', '’', '“', '’', '”', '‘', '‘', 's', '2']"
   ]
  },
  {
   "cell_type": "code",
   "execution_count": 34,
   "metadata": {},
   "outputs": [],
   "source": [
    "#fuction to remove the non-words\n",
    "def remove_nonwords(string):\n",
    "    return re.sub(\"[^A-Za-z ]\\w*\", ' ', string)"
   ]
  },
  {
   "cell_type": "code",
   "execution_count": 35,
   "metadata": {},
   "outputs": [],
   "source": [
    "#function to process the tweets\n",
    "def process_tweet(tweet):\n",
    "    tw = remove_nonwords(tweet)\n",
    "    tokens = nltk.word_tokenize(tw)\n",
    "    stopwords_removed = [token.lower() for token in tokens if token.lower() not in stopwords_list]\n",
    "    return stopwords_removed"
   ]
  },
  {
   "cell_type": "code",
   "execution_count": 36,
   "metadata": {},
   "outputs": [],
   "source": [
    "#differentiating three different emotions \n",
    "df_negative = df[df['emotion'] == 'Negative emotion']\n",
    "df_neutral = df[df['emotion'] == 'Neutral emotion']\n",
    "df_positive = df[df['emotion'] == 'Positive emotion']"
   ]
  },
  {
   "cell_type": "code",
   "execution_count": 37,
   "metadata": {},
   "outputs": [
    {
     "data": {
      "text/html": [
       "<div>\n",
       "<style scoped>\n",
       "    .dataframe tbody tr th:only-of-type {\n",
       "        vertical-align: middle;\n",
       "    }\n",
       "\n",
       "    .dataframe tbody tr th {\n",
       "        vertical-align: top;\n",
       "    }\n",
       "\n",
       "    .dataframe thead th {\n",
       "        text-align: right;\n",
       "    }\n",
       "</style>\n",
       "<table border=\"1\" class=\"dataframe\">\n",
       "  <thead>\n",
       "    <tr style=\"text-align: right;\">\n",
       "      <th></th>\n",
       "      <th>tweet_text</th>\n",
       "      <th>tweet_product</th>\n",
       "      <th>emotion</th>\n",
       "      <th>company</th>\n",
       "    </tr>\n",
       "  </thead>\n",
       "  <tbody>\n",
       "    <tr>\n",
       "      <th>0</th>\n",
       "      <td>.@wesley83 I have a 3G iPhone. After 3 hrs twe...</td>\n",
       "      <td>iPhone</td>\n",
       "      <td>Negative emotion</td>\n",
       "      <td>Apple</td>\n",
       "    </tr>\n",
       "    <tr>\n",
       "      <th>3</th>\n",
       "      <td>@sxsw I hope this year's festival isn't as cra...</td>\n",
       "      <td>iPad or iPhone App</td>\n",
       "      <td>Negative emotion</td>\n",
       "      <td>Apple</td>\n",
       "    </tr>\n",
       "    <tr>\n",
       "      <th>17</th>\n",
       "      <td>I just noticed DST is coming this weekend. How...</td>\n",
       "      <td>iPhone</td>\n",
       "      <td>Negative emotion</td>\n",
       "      <td>Apple</td>\n",
       "    </tr>\n",
       "    <tr>\n",
       "      <th>38</th>\n",
       "      <td>@mentionÂ  - False Alarm: Google Circles Not C...</td>\n",
       "      <td>Google</td>\n",
       "      <td>Negative emotion</td>\n",
       "      <td>Google</td>\n",
       "    </tr>\n",
       "    <tr>\n",
       "      <th>64</th>\n",
       "      <td>Again? RT @mention Line at the Apple store is ...</td>\n",
       "      <td>NaN</td>\n",
       "      <td>Negative emotion</td>\n",
       "      <td>NaN</td>\n",
       "    </tr>\n",
       "    <tr>\n",
       "      <th>...</th>\n",
       "      <td>...</td>\n",
       "      <td>...</td>\n",
       "      <td>...</td>\n",
       "      <td>...</td>\n",
       "    </tr>\n",
       "    <tr>\n",
       "      <th>9168</th>\n",
       "      <td>Google guy at #sxsw talk is explaining how he ...</td>\n",
       "      <td>NaN</td>\n",
       "      <td>Negative emotion</td>\n",
       "      <td>NaN</td>\n",
       "    </tr>\n",
       "    <tr>\n",
       "      <th>9176</th>\n",
       "      <td>I think my effing hubby is in line for an #iPa...</td>\n",
       "      <td>iPad</td>\n",
       "      <td>Negative emotion</td>\n",
       "      <td>Apple</td>\n",
       "    </tr>\n",
       "    <tr>\n",
       "      <th>9203</th>\n",
       "      <td>I'm pretty sure the panelist that thinks &amp;quot...</td>\n",
       "      <td>Apple</td>\n",
       "      <td>Negative emotion</td>\n",
       "      <td>Apple</td>\n",
       "    </tr>\n",
       "    <tr>\n",
       "      <th>9238</th>\n",
       "      <td>Hey is anyone doing #sxsw signing up for the g...</td>\n",
       "      <td>NaN</td>\n",
       "      <td>Negative emotion</td>\n",
       "      <td>NaN</td>\n",
       "    </tr>\n",
       "    <tr>\n",
       "      <th>9275</th>\n",
       "      <td>Diller says Google TV &amp;quot;might be run over ...</td>\n",
       "      <td>Other Google product or service</td>\n",
       "      <td>Negative emotion</td>\n",
       "      <td>Google</td>\n",
       "    </tr>\n",
       "  </tbody>\n",
       "</table>\n",
       "<p>568 rows × 4 columns</p>\n",
       "</div>"
      ],
      "text/plain": [
       "                                             tweet_text  \\\n",
       "0     .@wesley83 I have a 3G iPhone. After 3 hrs twe...   \n",
       "3     @sxsw I hope this year's festival isn't as cra...   \n",
       "17    I just noticed DST is coming this weekend. How...   \n",
       "38    @mentionÂ  - False Alarm: Google Circles Not C...   \n",
       "64    Again? RT @mention Line at the Apple store is ...   \n",
       "...                                                 ...   \n",
       "9168  Google guy at #sxsw talk is explaining how he ...   \n",
       "9176  I think my effing hubby is in line for an #iPa...   \n",
       "9203  I'm pretty sure the panelist that thinks &quot...   \n",
       "9238  Hey is anyone doing #sxsw signing up for the g...   \n",
       "9275  Diller says Google TV &quot;might be run over ...   \n",
       "\n",
       "                        tweet_product           emotion company  \n",
       "0                              iPhone  Negative emotion   Apple  \n",
       "3                  iPad or iPhone App  Negative emotion   Apple  \n",
       "17                             iPhone  Negative emotion   Apple  \n",
       "38                             Google  Negative emotion  Google  \n",
       "64                                NaN  Negative emotion     NaN  \n",
       "...                               ...               ...     ...  \n",
       "9168                              NaN  Negative emotion     NaN  \n",
       "9176                             iPad  Negative emotion   Apple  \n",
       "9203                            Apple  Negative emotion   Apple  \n",
       "9238                              NaN  Negative emotion     NaN  \n",
       "9275  Other Google product or service  Negative emotion  Google  \n",
       "\n",
       "[568 rows x 4 columns]"
      ]
     },
     "execution_count": 37,
     "metadata": {},
     "output_type": "execute_result"
    }
   ],
   "source": [
    "df_negative"
   ]
  },
  {
   "cell_type": "code",
   "execution_count": 38,
   "metadata": {},
   "outputs": [
    {
     "data": {
      "text/html": [
       "<div>\n",
       "<style scoped>\n",
       "    .dataframe tbody tr th:only-of-type {\n",
       "        vertical-align: middle;\n",
       "    }\n",
       "\n",
       "    .dataframe tbody tr th {\n",
       "        vertical-align: top;\n",
       "    }\n",
       "\n",
       "    .dataframe thead th {\n",
       "        text-align: right;\n",
       "    }\n",
       "</style>\n",
       "<table border=\"1\" class=\"dataframe\">\n",
       "  <thead>\n",
       "    <tr style=\"text-align: right;\">\n",
       "      <th></th>\n",
       "      <th>tweet_text</th>\n",
       "      <th>tweet_product</th>\n",
       "      <th>emotion</th>\n",
       "      <th>company</th>\n",
       "    </tr>\n",
       "  </thead>\n",
       "  <tbody>\n",
       "    <tr>\n",
       "      <th>1</th>\n",
       "      <td>@jessedee Know about @fludapp ? Awesome iPad/i...</td>\n",
       "      <td>iPad or iPhone App</td>\n",
       "      <td>Positive emotion</td>\n",
       "      <td>Apple</td>\n",
       "    </tr>\n",
       "    <tr>\n",
       "      <th>2</th>\n",
       "      <td>@swonderlin Can not wait for #iPad 2 also. The...</td>\n",
       "      <td>iPad</td>\n",
       "      <td>Positive emotion</td>\n",
       "      <td>Apple</td>\n",
       "    </tr>\n",
       "    <tr>\n",
       "      <th>4</th>\n",
       "      <td>@sxtxstate great stuff on Fri #SXSW: Marissa M...</td>\n",
       "      <td>Google</td>\n",
       "      <td>Positive emotion</td>\n",
       "      <td>Google</td>\n",
       "    </tr>\n",
       "    <tr>\n",
       "      <th>7</th>\n",
       "      <td>#SXSW is just starting, #CTIA is around the co...</td>\n",
       "      <td>Android</td>\n",
       "      <td>Positive emotion</td>\n",
       "      <td>Google</td>\n",
       "    </tr>\n",
       "    <tr>\n",
       "      <th>8</th>\n",
       "      <td>Beautifully smart and simple idea RT @madebyma...</td>\n",
       "      <td>iPad or iPhone App</td>\n",
       "      <td>Positive emotion</td>\n",
       "      <td>Apple</td>\n",
       "    </tr>\n",
       "    <tr>\n",
       "      <th>...</th>\n",
       "      <td>...</td>\n",
       "      <td>...</td>\n",
       "      <td>...</td>\n",
       "      <td>...</td>\n",
       "    </tr>\n",
       "    <tr>\n",
       "      <th>9267</th>\n",
       "      <td>@mention your iPhone 4 cases are Rad and Ready...</td>\n",
       "      <td>iPhone</td>\n",
       "      <td>Positive emotion</td>\n",
       "      <td>Apple</td>\n",
       "    </tr>\n",
       "    <tr>\n",
       "      <th>9272</th>\n",
       "      <td>@mention your PR guy just convinced me to swit...</td>\n",
       "      <td>iPhone</td>\n",
       "      <td>Positive emotion</td>\n",
       "      <td>Apple</td>\n",
       "    </tr>\n",
       "    <tr>\n",
       "      <th>9274</th>\n",
       "      <td>&amp;quot;papyrus...sort of like the ipad&amp;quot; - ...</td>\n",
       "      <td>iPad</td>\n",
       "      <td>Positive emotion</td>\n",
       "      <td>Apple</td>\n",
       "    </tr>\n",
       "    <tr>\n",
       "      <th>9280</th>\n",
       "      <td>I've always used Camera+ for my iPhone b/c it ...</td>\n",
       "      <td>iPad or iPhone App</td>\n",
       "      <td>Positive emotion</td>\n",
       "      <td>Apple</td>\n",
       "    </tr>\n",
       "    <tr>\n",
       "      <th>9283</th>\n",
       "      <td>Ipad everywhere. #SXSW {link}</td>\n",
       "      <td>iPad</td>\n",
       "      <td>Positive emotion</td>\n",
       "      <td>Apple</td>\n",
       "    </tr>\n",
       "  </tbody>\n",
       "</table>\n",
       "<p>2967 rows × 4 columns</p>\n",
       "</div>"
      ],
      "text/plain": [
       "                                             tweet_text       tweet_product  \\\n",
       "1     @jessedee Know about @fludapp ? Awesome iPad/i...  iPad or iPhone App   \n",
       "2     @swonderlin Can not wait for #iPad 2 also. The...                iPad   \n",
       "4     @sxtxstate great stuff on Fri #SXSW: Marissa M...              Google   \n",
       "7     #SXSW is just starting, #CTIA is around the co...             Android   \n",
       "8     Beautifully smart and simple idea RT @madebyma...  iPad or iPhone App   \n",
       "...                                                 ...                 ...   \n",
       "9267  @mention your iPhone 4 cases are Rad and Ready...              iPhone   \n",
       "9272  @mention your PR guy just convinced me to swit...              iPhone   \n",
       "9274  &quot;papyrus...sort of like the ipad&quot; - ...                iPad   \n",
       "9280  I've always used Camera+ for my iPhone b/c it ...  iPad or iPhone App   \n",
       "9283                      Ipad everywhere. #SXSW {link}                iPad   \n",
       "\n",
       "               emotion company  \n",
       "1     Positive emotion   Apple  \n",
       "2     Positive emotion   Apple  \n",
       "4     Positive emotion  Google  \n",
       "7     Positive emotion  Google  \n",
       "8     Positive emotion   Apple  \n",
       "...                ...     ...  \n",
       "9267  Positive emotion   Apple  \n",
       "9272  Positive emotion   Apple  \n",
       "9274  Positive emotion   Apple  \n",
       "9280  Positive emotion   Apple  \n",
       "9283  Positive emotion   Apple  \n",
       "\n",
       "[2967 rows x 4 columns]"
      ]
     },
     "execution_count": 38,
     "metadata": {},
     "output_type": "execute_result"
    }
   ],
   "source": [
    "df_positive"
   ]
  },
  {
   "cell_type": "code",
   "execution_count": 39,
   "metadata": {},
   "outputs": [],
   "source": [
    "#tweet_text column \n",
    "data_negative = df_negative['tweet_text']\n",
    "data_neutral = df_neutral['tweet_text']\n",
    "data_positive = df_positive['tweet_text']"
   ]
  },
  {
   "cell_type": "code",
   "execution_count": 40,
   "metadata": {},
   "outputs": [
    {
     "data": {
      "text/plain": [
       "0       .@wesley83 I have a 3G iPhone. After 3 hrs twe...\n",
       "3       @sxsw I hope this year's festival isn't as cra...\n",
       "17      I just noticed DST is coming this weekend. How...\n",
       "38      @mentionÂ  - False Alarm: Google Circles Not C...\n",
       "64      Again? RT @mention Line at the Apple store is ...\n",
       "                              ...                        \n",
       "9168    Google guy at #sxsw talk is explaining how he ...\n",
       "9176    I think my effing hubby is in line for an #iPa...\n",
       "9203    I'm pretty sure the panelist that thinks &quot...\n",
       "9238    Hey is anyone doing #sxsw signing up for the g...\n",
       "9275    Diller says Google TV &quot;might be run over ...\n",
       "Name: tweet_text, Length: 568, dtype: object"
      ]
     },
     "execution_count": 40,
     "metadata": {},
     "output_type": "execute_result"
    }
   ],
   "source": [
    "data_negative"
   ]
  },
  {
   "cell_type": "code",
   "execution_count": 41,
   "metadata": {},
   "outputs": [],
   "source": [
    "process_negative = list(map(process_tweet, data_negative))\n",
    "process_neutral = list(map(process_tweet, data_neutral))\n",
    "process_positive = list(map(process_tweet, data_positive))"
   ]
  },
  {
   "cell_type": "code",
   "execution_count": 42,
   "metadata": {},
   "outputs": [],
   "source": [
    "flat_negative = [item for sublist in process_negative for item in sublist]\n",
    "flat_neutral = [item for sublist in process_neutral for item in sublist]\n",
    "flat_positive = [item for sublist in process_positive for item in sublist]"
   ]
  },
  {
   "cell_type": "code",
   "execution_count": 43,
   "metadata": {},
   "outputs": [],
   "source": [
    "#frequency distribution of tweet \n",
    "negative_freq = FreqDist(flat_negative)\n",
    "neutral_freq = FreqDist(flat_neutral)\n",
    "positive_freq = FreqDist(flat_positive)"
   ]
  },
  {
   "cell_type": "code",
   "execution_count": 44,
   "metadata": {},
   "outputs": [
    {
     "data": {
      "text/plain": [
       "[('ipad', 178),\n",
       " ('iphone', 149),\n",
       " ('rt', 137),\n",
       " ('google', 128),\n",
       " ('apple', 96),\n",
       " ('app', 60),\n",
       " ('store', 46),\n",
       " ('new', 42),\n",
       " ('like', 39),\n",
       " ('design', 29),\n",
       " ('people', 29),\n",
       " ('apps', 26),\n",
       " ('social', 26),\n",
       " ('need', 25),\n",
       " ('austin', 25),\n",
       " ('circles', 24),\n",
       " ('get', 24),\n",
       " ('one', 23),\n",
       " ('launch', 21),\n",
       " ('android', 20),\n",
       " ('today', 20),\n",
       " ('would', 19),\n",
       " ('line', 18),\n",
       " ('time', 18),\n",
       " ('think', 18)]"
      ]
     },
     "execution_count": 44,
     "metadata": {},
     "output_type": "execute_result"
    }
   ],
   "source": [
    "#top 25 most common words in negative emotion\n",
    "negative_freq.most_common(25)"
   ]
  },
  {
   "cell_type": "code",
   "execution_count": 45,
   "metadata": {},
   "outputs": [
    {
     "data": {
      "text/plain": [
       "[('rt', 1828),\n",
       " ('google', 1391),\n",
       " ('ipad', 1149),\n",
       " ('apple', 995),\n",
       " ('store', 861),\n",
       " ('new', 662),\n",
       " ('iphone', 653),\n",
       " ('austin', 557),\n",
       " ('social', 464),\n",
       " ('launch', 446),\n",
       " ('today', 428),\n",
       " ('circles', 388),\n",
       " ('app', 346),\n",
       " ('network', 343),\n",
       " ('pop', 325),\n",
       " ('sxsw', 323),\n",
       " ('called', 264),\n",
       " ('android', 263),\n",
       " ('line', 246),\n",
       " ('free', 238),\n",
       " ('via', 221),\n",
       " ('major', 214),\n",
       " ('party', 205),\n",
       " ('mobile', 203),\n",
       " ('get', 200)]"
      ]
     },
     "execution_count": 45,
     "metadata": {},
     "output_type": "execute_result"
    }
   ],
   "source": [
    "#top 25 most common words in Neutral emotion\n",
    "neutral_freq.most_common(25)"
   ]
  },
  {
   "cell_type": "code",
   "execution_count": 46,
   "metadata": {},
   "outputs": [
    {
     "data": {
      "text/plain": [
       "[('ipad', 995),\n",
       " ('rt', 930),\n",
       " ('apple', 702),\n",
       " ('google', 627),\n",
       " ('store', 542),\n",
       " ('iphone', 457),\n",
       " ('app', 386),\n",
       " ('new', 357),\n",
       " ('austin', 253),\n",
       " ('pop', 203),\n",
       " ('launch', 158),\n",
       " ('android', 157),\n",
       " ('get', 157),\n",
       " ('one', 147),\n",
       " ('sxsw', 141),\n",
       " ('great', 134),\n",
       " ('line', 131),\n",
       " ('party', 129),\n",
       " ('time', 127),\n",
       " ('social', 121),\n",
       " ('cool', 116),\n",
       " ('free', 114),\n",
       " ('like', 113),\n",
       " ('today', 113),\n",
       " ('w', 108)]"
      ]
     },
     "execution_count": 46,
     "metadata": {},
     "output_type": "execute_result"
    }
   ],
   "source": [
    "#top 25 most common word in Positive emotion\n",
    "positive_freq.most_common(25)"
   ]
  },
  {
   "cell_type": "code",
   "execution_count": 47,
   "metadata": {},
   "outputs": [],
   "source": [
    "# create counts of negative, neutral and positive with values and words\n",
    "negative_bar_counts = [x[1] for x in negative_freq.most_common(25)]\n",
    "negative_bar_words = [x[0] for x in negative_freq.most_common(25)]\n",
    "\n",
    "neutral_bar_counts = [x[1] for x in neutral_freq.most_common(25)]\n",
    "neutral_bar_words = [x[0] for x in neutral_freq.most_common(25)]\n",
    "\n",
    "positive_bar_counts = [x[1] for x in positive_freq.most_common(25)]\n",
    "positive_bar_words = [x[0] for x in positive_freq.most_common(25)]"
   ]
  },
  {
   "cell_type": "code",
   "execution_count": 48,
   "metadata": {},
   "outputs": [
    {
     "data": {
      "image/png": "[encoded data removed]",
      "text/plain": [
       "<Figure size 864x864 with 3 Axes>"
      ]
     },
     "metadata": {
      "needs_background": "light"
     },
     "output_type": "display_data"
    }
   ],
   "source": [
    "# Plotting negative, positive and neutral words from the tweets\n",
    "new_figure = plt.figure(figsize=(12,12))\n",
    "# set the color of our bar graphs\n",
    "color = cm.viridis_r(np.linspace(.4,.8, 30))\n",
    "\n",
    "ax = new_figure.add_subplot(311)\n",
    "ax2 = new_figure.add_subplot(312)\n",
    "ax3 = new_figure.add_subplot(313)\n",
    "\n",
    "# Generate a line plot on first axes\n",
    "ax.bar(negative_bar_words, negative_bar_counts, color= color)\n",
    "\n",
    "# Draw a scatter plot on 2nd axes\n",
    "ax2.bar(neutral_bar_words, neutral_bar_counts, color=color)\n",
    "\n",
    "# Draw a scatter plot on 2nd axes\n",
    "ax3.bar(positive_bar_words, positive_bar_counts, color=color)\n",
    "\n",
    "ax.title.set_text('Negative words')\n",
    "ax2.title.set_text('Neutral words')\n",
    "ax3.title.set_text('Positive words')\n",
    "\n",
    "for ax in new_figure.axes:\n",
    "    plt.sca(ax)\n",
    "    plt.xticks(rotation=90)\n",
    "\n",
    "plt.tight_layout(pad=0)\n",
    "plt.show()"
   ]
  },
  {
   "cell_type": "markdown",
   "metadata": {},
   "source": [
    "From the above bar graph, when we see the first graph it shows us the top negative tweet words. word ipad has the highest tweets with more than 175 count and next comes iphone. Similarly in the second bar graph of neutral tweet words, the top word is rt(retweet) with more than 1750 tweets and the next comes Google and ipad. In the third bar graph of positive tweet words, the top word is ipad with almost 1000 tweets and next comes rt and apple. when we analyse all the three bar graph, mostly the same words have been tweeted in all the three (positive, negative, neutral) categories."
   ]
  },
  {
   "cell_type": "markdown",
   "metadata": {},
   "source": [
    "### Creating wordcloud"
   ]
  },
  {
   "cell_type": "code",
   "execution_count": 49,
   "metadata": {},
   "outputs": [],
   "source": [
    "#dictionary for negative, neutral and positive words \n",
    "negative_dictionary = dict(zip(negative_bar_words, negative_bar_counts))\n",
    "neutral_dictionary = dict(zip(neutral_bar_words, neutral_bar_counts))\n",
    "positive_dictionary = dict(zip(positive_bar_words, positive_bar_counts))"
   ]
  },
  {
   "cell_type": "code",
   "execution_count": 50,
   "metadata": {},
   "outputs": [],
   "source": [
    "# Creating the fuction wordcloud:\n",
    "def generate_wordcloud(data):\n",
    "    wordcloud = WordCloud(colormap='Spectral').generate_from_frequencies(data)\n",
    "    plt.figure(figsize=(10,10),facecolor='k')\n",
    "    plt.imshow(wordcloud, interpolation='bilinear')\n",
    "    plt.axis(\"off\")\n",
    "    plt.show()"
   ]
  },
  {
   "cell_type": "code",
   "execution_count": 51,
   "metadata": {},
   "outputs": [
    {
     "data": {
      "image/png": "[encoded data removed]",
      "text/plain": [
       "<Figure size 720x720 with 1 Axes>"
      ]
     },
     "metadata": {},
     "output_type": "display_data"
    }
   ],
   "source": [
    "#Generating negative wordcloud\n",
    "generate_wordcloud(negative_dictionary)"
   ]
  },
  {
   "cell_type": "code",
   "execution_count": 52,
   "metadata": {},
   "outputs": [
    {
     "data": {
      "image/png": "[encoded data removed]",
      "text/plain": [
       "<Figure size 720x720 with 1 Axes>"
      ]
     },
     "metadata": {},
     "output_type": "display_data"
    }
   ],
   "source": [
    "#generating positive wordcloud\n",
    "generate_wordcloud(positive_dictionary)"
   ]
  },
  {
   "cell_type": "code",
   "execution_count": 53,
   "metadata": {},
   "outputs": [
    {
     "data": {
      "image/png": "[encoded data removed]",
      "text/plain": [
       "<Figure size 720x720 with 1 Axes>"
      ]
     },
     "metadata": {},
     "output_type": "display_data"
    }
   ],
   "source": [
    "#generating neutral wordcloud\n",
    "generate_wordcloud(neutral_dictionary)"
   ]
  },
  {
   "cell_type": "markdown",
   "metadata": {},
   "source": [
    "### Model"
   ]
  },
  {
   "cell_type": "markdown",
   "metadata": {},
   "source": [
    "Now lets start with the modelling process"
   ]
  },
  {
   "cell_type": "markdown",
   "metadata": {},
   "source": [
    "For my model i have planned to use Logistic Regression classifier, Naive Bayes classifier, Random Forest classifier, Decision Tree classifier, and XG Boost Classifier. When evaluating the models i have used two metrics, Accuracy and F1 score. F1 score comprises of both recall and precision metric in it. These metrics helps in identifying the model performance and help to find the positive and negative tweets. "
   ]
  },
  {
   "cell_type": "code",
   "execution_count": 54,
   "metadata": {},
   "outputs": [],
   "source": [
    "#initiate the variables\n",
    "data = df['tweet_text']\n",
    "target = df['emotion']"
   ]
  },
  {
   "cell_type": "code",
   "execution_count": 55,
   "metadata": {},
   "outputs": [],
   "source": [
    "# applying the function to our data/features \n",
    "processed_data = list(map(process_tweet, data))"
   ]
  },
  {
   "cell_type": "code",
   "execution_count": 56,
   "metadata": {},
   "outputs": [
    {
     "data": {
      "text/plain": [
       "['iphone', 'hrs', 'tweeting', 'dead', 'need', 'upgrade', 'plugin', 'stations']"
      ]
     },
     "execution_count": 56,
     "metadata": {},
     "output_type": "execute_result"
    }
   ],
   "source": [
    "#indexing the processed data\n",
    "pd.Series(processed_data)\n",
    "processed_data[0]"
   ]
  },
  {
   "cell_type": "markdown",
   "metadata": {},
   "source": [
    "### Lemmatization "
   ]
  },
  {
   "cell_type": "markdown",
   "metadata": {},
   "source": [
    "lemmatization is the process of grouping together the inflected forms of a word so they can be analysed as a single item, identified by the word's lemma, or dictionary form."
   ]
  },
  {
   "cell_type": "code",
   "execution_count": 57,
   "metadata": {},
   "outputs": [],
   "source": [
    "#lemmatization of tweet_text\n",
    "lemmatized_output = []\n",
    "lemmatizer = WordNetLemmatizer() \n",
    "for lists in processed_data:\n",
    "    lemmed = ' '.join([lemmatizer.lemmatize(w) for w in lists])\n",
    "    lemmatized_output.append(lemmed)"
   ]
  },
  {
   "cell_type": "code",
   "execution_count": 58,
   "metadata": {},
   "outputs": [
    {
     "data": {
      "text/plain": [
       "['iphone hr tweeting dead need upgrade plugin station',\n",
       " 'know awesome ipad app likely appreciate design also giving free t',\n",
       " 'wait also sale',\n",
       " 'hope year festival crashy year iphone app',\n",
       " 'great stuff fri marissa mayer tim book matt mullenweg',\n",
       " 'new ipad apps communication showcased conference http',\n",
       " 'starting around corner hop skip jump good time fan',\n",
       " 'beautifully smart simple idea rt wrote ipad app http',\n",
       " 'counting day plus strong canadian dollar mean stock apple gear',\n",
       " 'excited meet show sprint galaxy still running android']"
      ]
     },
     "execution_count": 58,
     "metadata": {},
     "output_type": "execute_result"
    }
   ],
   "source": [
    "#lemmatized output\n",
    "lemmatized_output[:10]"
   ]
  },
  {
   "cell_type": "code",
   "execution_count": 59,
   "metadata": {},
   "outputs": [],
   "source": [
    "#initiate X and y\n",
    "X_lem = lemmatized_output\n",
    "y_lem = target"
   ]
  },
  {
   "cell_type": "markdown",
   "metadata": {},
   "source": [
    "### Vectorization"
   ]
  },
  {
   "cell_type": "markdown",
   "metadata": {},
   "source": [
    "Vectorization is the process of converting text to numerical entries in a matrix form. "
   ]
  },
  {
   "cell_type": "markdown",
   "metadata": {},
   "source": [
    "### Tfidf Vectorization (Term Frequency - Inverse Document Frequency)"
   ]
  },
  {
   "cell_type": "markdown",
   "metadata": {},
   "source": [
    "TF-IDF stands for Term Frequency-Inverse Document Frequency. It is a combination of two individual metrics, which are the TF and IDF, respectively. TF-IDF is used when we have multiple documents. It is based on the idea that rare words contain more information about the content of a document than words that are used many times throughout all the documents"
   ]
  },
  {
   "cell_type": "code",
   "execution_count": 60,
   "metadata": {},
   "outputs": [],
   "source": [
    "# Implement train/test split of dataset\n",
    "X_train, X_test, y_train, y_test = train_test_split(\n",
    "    X_lem, y_lem, test_size=0.20, random_state=42)"
   ]
  },
  {
   "cell_type": "code",
   "execution_count": 61,
   "metadata": {},
   "outputs": [],
   "source": [
    "# Instantiate vectorizer object\n",
    "tfidf = TfidfVectorizer()\n",
    "# Fit the vectorizer\n",
    "X_train_tf = tfidf.fit_transform(X_train)\n",
    "X_test_tf = tfidf.transform(X_test)"
   ]
  },
  {
   "cell_type": "markdown",
   "metadata": {},
   "source": [
    "### Logistic Regression"
   ]
  },
  {
   "cell_type": "code",
   "execution_count": 62,
   "metadata": {},
   "outputs": [],
   "source": [
    "#instantiate Logistic Regression\n",
    "lr = LogisticRegression()\n",
    "logreg = lr.fit(X_train_tf, y_train)\n",
    "logreg_train_preds = logreg.predict(X_train_tf)\n",
    "logreg_test_preds = logreg.predict(X_test_tf)"
   ]
  },
  {
   "cell_type": "markdown",
   "metadata": {},
   "source": [
    "In f1 score metric im using weighted average to Calculate metrics for each label, and find their average weighted by support (the number of true instances for each label). "
   ]
  },
  {
   "cell_type": "code",
   "execution_count": 63,
   "metadata": {},
   "outputs": [
    {
     "name": "stdout",
     "output_type": "stream",
     "text": [
      "Train Accuracy score: 0.7985955056179775\n",
      "Test Accuracy score:  0.6758426966292135\n",
      "Train F1 score:  0.7779764954803375\n",
      "Test F1 score:  0.6429886434671748\n"
     ]
    }
   ],
   "source": [
    "#calcuate the metrics\n",
    "f1_train = metrics.f1_score(y_train, logreg_train_preds, average='weighted')\n",
    "f1_test = metrics.f1_score(y_test, logreg_test_preds, average='weighted')\n",
    "print('Train Accuracy score:', metrics.accuracy_score(y_train, logreg_train_preds))\n",
    "print('Test Accuracy score: ', metrics.accuracy_score(y_test, logreg_test_preds))\n",
    "print('Train F1 score: ', f1_train)\n",
    "print('Test F1 score: ', f1_test)"
   ]
  },
  {
   "cell_type": "code",
   "execution_count": 64,
   "metadata": {},
   "outputs": [
    {
     "data": {
      "image/png": "[encoded data removed]",
      "text/plain": [
       "<Figure size 432x288 with 2 Axes>"
      ]
     },
     "metadata": {
      "needs_background": "light"
     },
     "output_type": "display_data"
    }
   ],
   "source": [
    "# plot Confusion Matrix\n",
    "plot_confusion_matrix(logreg, X_test_tf, y_test)\n",
    "plt.grid(False)"
   ]
  },
  {
   "cell_type": "markdown",
   "metadata": {},
   "source": [
    "The model has a train accuracy of 80% and test accuracy score of 67%. The train and test f1 score of 78% and 65%. Model didnt perform in predicting positive and negative tweets. There is a class imbalance problem, so im using oversampling  and cross valiadation score. "
   ]
  },
  {
   "cell_type": "code",
   "execution_count": 65,
   "metadata": {},
   "outputs": [
    {
     "data": {
      "text/plain": [
       "array([0.6875    , 0.69803371, 0.66853933, 0.6741573 , 0.68679775])"
      ]
     },
     "execution_count": 65,
     "metadata": {},
     "output_type": "execute_result"
    }
   ],
   "source": [
    "#Cross Validation\n",
    "lr_pipe = make_pipeline(lr)\n",
    "scores = cross_val_score(lr_pipe, X_train_tf, y_train, cv=5)\n",
    "scores"
   ]
  },
  {
   "cell_type": "code",
   "execution_count": 66,
   "metadata": {},
   "outputs": [
    {
     "data": {
      "text/plain": [
       "array([0.64396067, 0.66292135, 0.6502809 , 0.64536517, 0.66924157])"
      ]
     },
     "execution_count": 66,
     "metadata": {},
     "output_type": "execute_result"
    }
   ],
   "source": [
    "#Oversampling on Logistic Regression Model\n",
    "\n",
    "lr_oversample = make_pipeline(SMOTE(random_state=42), lr)\n",
    "lr_scores = cross_val_score(lr_oversample, X_train_tf, y_train, cv=5)\n",
    "lr_scores"
   ]
  },
  {
   "cell_type": "code",
   "execution_count": 67,
   "metadata": {},
   "outputs": [
    {
     "data": {
      "text/plain": [
       "Pipeline(steps=[('smote', SMOTE(random_state=42)),\n",
       "                ('logisticregression', LogisticRegression())])"
      ]
     },
     "execution_count": 67,
     "metadata": {},
     "output_type": "execute_result"
    }
   ],
   "source": [
    "#Instantiate final Logistic Regression model\n",
    "lr_final_pipe = make_pipeline(SMOTE(random_state = 42), lr)\n",
    "lr_final_pipe.fit(X_train_tf, y_train)"
   ]
  },
  {
   "cell_type": "code",
   "execution_count": 68,
   "metadata": {},
   "outputs": [],
   "source": [
    "lr_train_preds = lr_final_pipe.predict(X_train_tf)\n",
    "lr_test_preds = lr_final_pipe.predict(X_test_tf)"
   ]
  },
  {
   "cell_type": "code",
   "execution_count": 69,
   "metadata": {},
   "outputs": [
    {
     "name": "stdout",
     "output_type": "stream",
     "text": [
      "Train Accuracy score: 0.8334269662921349\n",
      "Test Accuracy score:  0.6449438202247191\n",
      "Train F1 score:  0.8351747356783962\n",
      "Test F1 score:  0.650218329942598\n"
     ]
    }
   ],
   "source": [
    "f1_train = metrics.f1_score(y_train, lr_train_preds, average='weighted')\n",
    "f1_test = metrics.f1_score(y_test, lr_test_preds, average='weighted')\n",
    "print('Train Accuracy score:', metrics.accuracy_score(y_train, lr_train_preds))\n",
    "print('Test Accuracy score: ', metrics.accuracy_score(y_test, lr_test_preds))\n",
    "print('Train F1 score: ', f1_train)\n",
    "print('Test F1 score: ', f1_test)"
   ]
  },
  {
   "cell_type": "code",
   "execution_count": 70,
   "metadata": {},
   "outputs": [
    {
     "data": {
      "image/png": "[encoded data removed]",
      "text/plain": [
       "<Figure size 432x288 with 2 Axes>"
      ]
     },
     "metadata": {
      "needs_background": "light"
     },
     "output_type": "display_data"
    }
   ],
   "source": [
    "# Confusion Matrix\n",
    "plot_confusion_matrix(lr_final_pipe, X_test_tf, y_test)\n",
    "plt.grid(False)"
   ]
  },
  {
   "cell_type": "markdown",
   "metadata": {},
   "source": [
    "After the cross validation and oversampling techniques there is an improvement in positive and negative tweets. Train accuracy is 83% and test accuracy is 65%. The negative tweets have been improved from 7 to 51 tweets. The positive tweets have been changed from 275 to 363 after applying sampling technique but still the neutral tweets is high with 734 tweets. still the data is overfit. The training f1 score is 83% and test f1 score is 65%."
   ]
  },
  {
   "cell_type": "markdown",
   "metadata": {},
   "source": [
    "### Naive Bayes"
   ]
  },
  {
   "cell_type": "code",
   "execution_count": 71,
   "metadata": {},
   "outputs": [],
   "source": [
    "# Multinomial Naive Bayes\n",
    "nb_classifier = MultinomialNB()"
   ]
  },
  {
   "cell_type": "code",
   "execution_count": 72,
   "metadata": {},
   "outputs": [],
   "source": [
    "# Fitting Model\n",
    "nb_class = nb_classifier.fit(X_train_tf, y_train)\n",
    "nb_train_preds = nb_class.predict(X_train_tf)\n",
    "nb_test_preds = nb_class.predict(X_test_tf)"
   ]
  },
  {
   "cell_type": "code",
   "execution_count": 73,
   "metadata": {},
   "outputs": [
    {
     "name": "stdout",
     "output_type": "stream",
     "text": [
      "Train Accuracy score: 0.7529494382022472\n",
      "Test Accuracy score:  0.6573033707865169\n",
      "Train F1 score:  0.7129950594462992\n",
      "Test F1 score:  0.5903952858228007\n"
     ]
    }
   ],
   "source": [
    "f1_train = metrics.f1_score(y_train, nb_train_preds, average='weighted')\n",
    "f1_test = metrics.f1_score(y_test, nb_test_preds, average='weighted')\n",
    "print('Train Accuracy score:', metrics.accuracy_score(y_train, nb_train_preds))\n",
    "print('Test Accuracy score: ', metrics.accuracy_score(y_test, nb_test_preds))\n",
    "print('Train F1 score: ', f1_train)\n",
    "print('Test F1 score: ', f1_test)"
   ]
  },
  {
   "cell_type": "code",
   "execution_count": 74,
   "metadata": {},
   "outputs": [
    {
     "data": {
      "image/png": "[encoded data removed]",
      "text/plain": [
       "<Figure size 432x288 with 2 Axes>"
      ]
     },
     "metadata": {
      "needs_background": "light"
     },
     "output_type": "display_data"
    }
   ],
   "source": [
    "# Confusion Matrix \n",
    "plot_confusion_matrix(nb_class,X_test_tf, y_test)\n",
    "plt.grid(False)"
   ]
  },
  {
   "cell_type": "markdown",
   "metadata": {},
   "source": [
    "In the naive bayes model, the train accuracy score is 75% and test accuracy score is 65%. There is class imbalance problem and applying oversampling technique. "
   ]
  },
  {
   "cell_type": "code",
   "execution_count": 75,
   "metadata": {},
   "outputs": [
    {
     "data": {
      "text/plain": [
       "array([0.66151685, 0.67205056, 0.6488764 , 0.64325843, 0.65941011])"
      ]
     },
     "execution_count": 75,
     "metadata": {},
     "output_type": "execute_result"
    }
   ],
   "source": [
    "# k-fold cross validation\n",
    "nb_pipe = make_pipeline(nb_class)\n",
    "scores = cross_val_score(nb_pipe, X_train_tf, y_train, cv=5)\n",
    "scores"
   ]
  },
  {
   "cell_type": "code",
   "execution_count": 76,
   "metadata": {},
   "outputs": [
    {
     "data": {
      "text/plain": [
       "array([0.59199438, 0.5997191 , 0.58286517, 0.57935393, 0.6116573 ])"
      ]
     },
     "execution_count": 76,
     "metadata": {},
     "output_type": "execute_result"
    }
   ],
   "source": [
    "# Oversampling on Naive Bayesian model\n",
    "nb_oversample = make_pipeline(SMOTE(random_state = 42), nb_class)\n",
    "nb_scores = cross_val_score(nb_oversample, X_train_tf, y_train, cv=5)\n",
    "nb_scores"
   ]
  },
  {
   "cell_type": "code",
   "execution_count": 77,
   "metadata": {},
   "outputs": [
    {
     "data": {
      "text/plain": [
       "Pipeline(steps=[('smote', SMOTE(random_state=42)),\n",
       "                ('multinomialnb', MultinomialNB())])"
      ]
     },
     "execution_count": 77,
     "metadata": {},
     "output_type": "execute_result"
    }
   ],
   "source": [
    "nb_final_pipe = make_pipeline(SMOTE(random_state = 42), nb_class)\n",
    "nb_final_pipe.fit(X_train_tf, y_train)"
   ]
  },
  {
   "cell_type": "code",
   "execution_count": 78,
   "metadata": {},
   "outputs": [],
   "source": [
    "nb_train_preds = nb_final_pipe.predict(X_train_tf)\n",
    "nb_test_preds = nb_final_pipe.predict(X_test_tf)"
   ]
  },
  {
   "cell_type": "code",
   "execution_count": 79,
   "metadata": {},
   "outputs": [
    {
     "name": "stdout",
     "output_type": "stream",
     "text": [
      "Train Accuracy score: 0.7658707865168539\n",
      "Test Accuracy score:  0.604494382022472\n",
      "Train F1 score:  0.7732828842977941\n",
      "Test F1 score:  0.6166904707835683\n"
     ]
    }
   ],
   "source": [
    "f1_train = metrics.f1_score(y_train, nb_train_preds, average='weighted')\n",
    "f1_test = metrics.f1_score(y_test, nb_test_preds, average='weighted')\n",
    "print('Train Accuracy score:', metrics.accuracy_score(y_train, nb_train_preds))\n",
    "print('Test Accuracy score: ', metrics.accuracy_score(y_test, nb_test_preds))\n",
    "print('Train F1 score: ', f1_train)\n",
    "print('Test F1 score: ', f1_test)"
   ]
  },
  {
   "cell_type": "code",
   "execution_count": 80,
   "metadata": {},
   "outputs": [
    {
     "data": {
      "image/png": "[encoded data removed]",
      "text/plain": [
       "<Figure size 432x288 with 2 Axes>"
      ]
     },
     "metadata": {
      "needs_background": "light"
     },
     "output_type": "display_data"
    }
   ],
   "source": [
    "# Confusion Matrix\n",
    "plot_confusion_matrix(nb_final_pipe, X_test_tf, y_test)\n",
    "plt.grid(False)"
   ]
  },
  {
   "cell_type": "markdown",
   "metadata": {},
   "source": [
    "In the final naive bayes model, there was good improvement of predicting positive and negative tweets. before cross validation and oversampling the positive and neagtive tweets were 161 and 1 respectively. After applying techniques the positive tweets were 382 and negative tweets were 68 but still the neutral tweets are higher with 626 tweets. The accuracy score for train set is 76% and 60% for test. f1 score for train and test set is 77% and 62%."
   ]
  },
  {
   "cell_type": "markdown",
   "metadata": {},
   "source": [
    "### Random Forest"
   ]
  },
  {
   "cell_type": "code",
   "execution_count": 81,
   "metadata": {},
   "outputs": [],
   "source": [
    "# Random Forest\n",
    "rf_classifier = RandomForestClassifier(n_estimators = 100)"
   ]
  },
  {
   "cell_type": "code",
   "execution_count": 82,
   "metadata": {},
   "outputs": [],
   "source": [
    "# Fitting the Model\n",
    "rf_classifier.fit(X_train_tf, y_train)\n",
    "rf_train_preds = rf_classifier.predict(X_train_tf)\n",
    "rf_test_preds = rf_classifier.predict(X_test_tf)"
   ]
  },
  {
   "cell_type": "code",
   "execution_count": 83,
   "metadata": {},
   "outputs": [
    {
     "name": "stdout",
     "output_type": "stream",
     "text": [
      "Train Accuracy score: 0.986938202247191\n",
      "Test Accuracy score:  0.6786516853932584\n",
      "Train F1 score:  0.9869165792003197\n",
      "Test F1 score:  0.6530251401027964\n"
     ]
    }
   ],
   "source": [
    "f1_train = metrics.f1_score(y_train, rf_train_preds, average='weighted')\n",
    "f1_test = metrics.f1_score(y_test, rf_test_preds, average='weighted')\n",
    "print('Train Accuracy score:', metrics.accuracy_score(y_train, rf_train_preds))\n",
    "print('Test Accuracy score: ', metrics.accuracy_score(y_test, rf_test_preds))\n",
    "print('Train F1 score: ', f1_train)\n",
    "print('Test F1 score: ', f1_test)"
   ]
  },
  {
   "cell_type": "code",
   "execution_count": 84,
   "metadata": {},
   "outputs": [
    {
     "data": {
      "image/png": "[encoded data removed]",
      "text/plain": [
       "<Figure size 432x288 with 2 Axes>"
      ]
     },
     "metadata": {
      "needs_background": "light"
     },
     "output_type": "display_data"
    }
   ],
   "source": [
    "# Confusion Matrix \n",
    "plot_confusion_matrix(rf_classifier, X_test_tf, y_test)\n",
    "plt.grid(False)"
   ]
  },
  {
   "cell_type": "markdown",
   "metadata": {},
   "source": [
    "The RF train accuracy  and f1 score is 98% and test accuracy score is 68% and 64%. The positive tweets were 266 and negative tweets were 22. Neutral tweets are high with 908 tweets. "
   ]
  },
  {
   "cell_type": "code",
   "execution_count": 85,
   "metadata": {},
   "outputs": [
    {
     "data": {
      "text/plain": [
       "array([0.66994382, 0.68398876, 0.67907303, 0.67626404, 0.68609551])"
      ]
     },
     "execution_count": 85,
     "metadata": {},
     "output_type": "execute_result"
    }
   ],
   "source": [
    "# k-fold cross validation\n",
    "rf_pipe = make_pipeline(rf_classifier)\n",
    "scores = cross_val_score(rf_pipe, X_train_tf, y_train, cv=5)\n",
    "scores"
   ]
  },
  {
   "cell_type": "code",
   "execution_count": 86,
   "metadata": {},
   "outputs": [
    {
     "data": {
      "text/plain": [
       "array([0.6741573 , 0.69030899, 0.65941011, 0.66994382, 0.67696629])"
      ]
     },
     "execution_count": 86,
     "metadata": {},
     "output_type": "execute_result"
    }
   ],
   "source": [
    "# Oversampling on Random Forest model\n",
    "rf_oversample_pipe = make_pipeline(SMOTE(random_state = 42), rf_classifier)\n",
    "rf_scores = cross_val_score(rf_oversample_pipe, X_train_tf, y_train, cv=5)\n",
    "rf_scores"
   ]
  },
  {
   "cell_type": "code",
   "execution_count": 87,
   "metadata": {},
   "outputs": [],
   "source": [
    "rf_final_pipe = make_pipeline(SMOTE(random_state=42), rf_classifier)"
   ]
  },
  {
   "cell_type": "code",
   "execution_count": 88,
   "metadata": {},
   "outputs": [
    {
     "data": {
      "text/plain": [
       "Pipeline(steps=[('smote', SMOTE(random_state=42)),\n",
       "                ('randomforestclassifier', RandomForestClassifier())])"
      ]
     },
     "execution_count": 88,
     "metadata": {},
     "output_type": "execute_result"
    }
   ],
   "source": [
    "rf_final_pipe.fit(X_train_tf, y_train)"
   ]
  },
  {
   "cell_type": "code",
   "execution_count": 89,
   "metadata": {},
   "outputs": [],
   "source": [
    "rf_train_preds = rf_final_pipe.predict(X_train_tf)\n",
    "rf_test_preds = rf_final_pipe.predict(X_test_tf)"
   ]
  },
  {
   "cell_type": "code",
   "execution_count": 90,
   "metadata": {},
   "outputs": [
    {
     "name": "stdout",
     "output_type": "stream",
     "text": [
      "Train Accuracy score: 0.9867977528089887\n",
      "Test Accuracy score:  0.6825842696629213\n",
      "Train F1 score:  0.9867898809539496\n",
      "Test F1 score:  0.6665015589186704\n"
     ]
    }
   ],
   "source": [
    "f1_train = metrics.f1_score(y_train, rf_train_preds, average='weighted')\n",
    "f1_test = metrics.f1_score(y_test, rf_test_preds, average='weighted')\n",
    "print('Train Accuracy score:', metrics.accuracy_score(y_train, rf_train_preds))\n",
    "print('Test Accuracy score: ', metrics.accuracy_score(y_test, rf_test_preds))\n",
    "print('Train F1 score: ', f1_train)\n",
    "print('Test F1 score: ', f1_test)"
   ]
  },
  {
   "cell_type": "code",
   "execution_count": 91,
   "metadata": {},
   "outputs": [
    {
     "data": {
      "image/png": "[encoded data removed]",
      "text/plain": [
       "<Figure size 432x288 with 2 Axes>"
      ]
     },
     "metadata": {
      "needs_background": "light"
     },
     "output_type": "display_data"
    }
   ],
   "source": [
    "# Confusion Matrix\n",
    "plot_confusion_matrix(rf_final_pipe, X_test_tf, y_test)\n",
    "plt.grid(False)"
   ]
  },
  {
   "cell_type": "markdown",
   "metadata": {},
   "source": [
    "In the final Random Forest model, there was a little improvement of predicting positive and negative tweets. before cross validation and oversampling the positive and neagtive tweets were 266 and 22 respectively. After applying techniques the positive tweets were 309 and negative tweets were 29 but still the neutral tweets are higher with 875 tweets. The accuracy score for train set is 99% and 68% for test. f1 score for train and test set is 99% and 66%."
   ]
  },
  {
   "cell_type": "markdown",
   "metadata": {},
   "source": [
    "### Decision Tree "
   ]
  },
  {
   "cell_type": "code",
   "execution_count": 92,
   "metadata": {},
   "outputs": [],
   "source": [
    "#decision tree classifier\n",
    "dt_classifier = DecisionTreeClassifier(random_state=42)  "
   ]
  },
  {
   "cell_type": "code",
   "execution_count": 93,
   "metadata": {},
   "outputs": [],
   "source": [
    "# Fitting the Model\n",
    "dt_classifier.fit(X_train_tf, y_train)\n",
    "dt_train_preds = dt_classifier.predict(X_train_tf)\n",
    "dt_test_preds = dt_classifier.predict(X_test_tf)"
   ]
  },
  {
   "cell_type": "code",
   "execution_count": 94,
   "metadata": {},
   "outputs": [
    {
     "name": "stdout",
     "output_type": "stream",
     "text": [
      "Train Accuracy score: 0.986938202247191\n",
      "Test Accuracy score:  0.6230337078651685\n",
      "Train F1 score:  0.9869026585375519\n",
      "Test F1 score:  0.6134207263291641\n"
     ]
    }
   ],
   "source": [
    "f1_train = metrics.f1_score(y_train, dt_train_preds, average='weighted')\n",
    "f1_test = metrics.f1_score(y_test, dt_test_preds, average='weighted')\n",
    "print('Train Accuracy score:', metrics.accuracy_score(y_train, dt_train_preds))\n",
    "print('Test Accuracy score: ', metrics.accuracy_score(y_test, dt_test_preds))\n",
    "print('Train F1 score: ', f1_train)\n",
    "print('Test F1 score: ', f1_test)"
   ]
  },
  {
   "cell_type": "code",
   "execution_count": 95,
   "metadata": {},
   "outputs": [
    {
     "data": {
      "image/png": "[encoded data removed]",
      "text/plain": [
       "<Figure size 432x288 with 2 Axes>"
      ]
     },
     "metadata": {
      "needs_background": "light"
     },
     "output_type": "display_data"
    }
   ],
   "source": [
    "# Confusion Matrix \n",
    "plot_confusion_matrix(dt_classifier, X_test_tf, y_test)\n",
    "plt.grid(False)"
   ]
  },
  {
   "cell_type": "code",
   "execution_count": 96,
   "metadata": {},
   "outputs": [
    {
     "data": {
      "text/plain": [
       "array([0.62008427, 0.61938202, 0.61797753, 0.62289326, 0.62640449])"
      ]
     },
     "execution_count": 96,
     "metadata": {},
     "output_type": "execute_result"
    }
   ],
   "source": [
    "# k-fold cross val\n",
    "dt_pipe = make_pipeline(dt_classifier)\n",
    "scores = cross_val_score(dt_pipe, X_train_tf, y_train, cv=5)\n",
    "scores"
   ]
  },
  {
   "cell_type": "code",
   "execution_count": 97,
   "metadata": {},
   "outputs": [
    {
     "data": {
      "text/plain": [
       "array([0.60814607, 0.60814607, 0.61867978, 0.60252809, 0.61587079])"
      ]
     },
     "execution_count": 97,
     "metadata": {},
     "output_type": "execute_result"
    }
   ],
   "source": [
    "# Oversampling on Random Forest model\n",
    "dt_oversample_pipe = make_pipeline(SMOTE(random_state = 42), dt_classifier)\n",
    "dt_scores = cross_val_score(dt_oversample_pipe, X_train_tf, y_train, cv=5)\n",
    "dt_scores"
   ]
  },
  {
   "cell_type": "code",
   "execution_count": 98,
   "metadata": {},
   "outputs": [],
   "source": [
    "dt_final_pipe = make_pipeline(SMOTE(random_state = 42), dt_classifier)"
   ]
  },
  {
   "cell_type": "code",
   "execution_count": 99,
   "metadata": {},
   "outputs": [
    {
     "data": {
      "text/plain": [
       "Pipeline(steps=[('smote', SMOTE(random_state=42)),\n",
       "                ('decisiontreeclassifier',\n",
       "                 DecisionTreeClassifier(random_state=42))])"
      ]
     },
     "execution_count": 99,
     "metadata": {},
     "output_type": "execute_result"
    }
   ],
   "source": [
    "dt_final_pipe.fit(X_train_tf, y_train)"
   ]
  },
  {
   "cell_type": "code",
   "execution_count": 100,
   "metadata": {},
   "outputs": [],
   "source": [
    "dt_train_preds = dt_final_pipe.predict(X_train_tf)\n",
    "dt_test_preds = dt_final_pipe.predict(X_test_tf)"
   ]
  },
  {
   "cell_type": "code",
   "execution_count": 101,
   "metadata": {},
   "outputs": [
    {
     "name": "stdout",
     "output_type": "stream",
     "text": [
      "Train Accuracy score: 0.9867977528089887\n",
      "Test Accuracy score:  0.6219101123595505\n",
      "Train F1 score:  0.9867647325073445\n",
      "Test F1 score:  0.6229431292999137\n"
     ]
    }
   ],
   "source": [
    "f1_train = metrics.f1_score(y_train, dt_train_preds, average='weighted')\n",
    "f1_test = metrics.f1_score(y_test, dt_test_preds, average='weighted')\n",
    "print('Train Accuracy score:', metrics.accuracy_score(y_train, dt_train_preds))\n",
    "print('Test Accuracy score: ', metrics.accuracy_score(y_test, dt_test_preds))\n",
    "print('Train F1 score: ', f1_train)\n",
    "print('Test F1 score: ', f1_test)"
   ]
  },
  {
   "cell_type": "code",
   "execution_count": 102,
   "metadata": {
    "scrolled": true
   },
   "outputs": [
    {
     "data": {
      "image/png": "[encoded data removed]",
      "text/plain": [
       "<Figure size 432x288 with 2 Axes>"
      ]
     },
     "metadata": {
      "needs_background": "light"
     },
     "output_type": "display_data"
    }
   ],
   "source": [
    "# Confusion Matrix\n",
    "plot_confusion_matrix(dt_final_pipe, X_test_tf, y_test)\n",
    "plt.grid(False)"
   ]
  },
  {
   "cell_type": "markdown",
   "metadata": {},
   "source": [
    "In the final model of decision tree classifier, the train accuracy is 99% and test accurcy is 62%. There was no improvement after cross validation and over sampling techniques. The f1 score also remains the same. There are 344 true positive tweets and 30 true negative tweets. still the neutral tweets are high with 733 tweets. "
   ]
  },
  {
   "cell_type": "markdown",
   "metadata": {},
   "source": [
    "### XG Boost"
   ]
  },
  {
   "cell_type": "code",
   "execution_count": 103,
   "metadata": {},
   "outputs": [],
   "source": [
    "# Initiate the model\n",
    "xgb_classifier = XGBClassifier(random_state=42)"
   ]
  },
  {
   "cell_type": "code",
   "execution_count": 104,
   "metadata": {},
   "outputs": [],
   "source": [
    "# Fitting Model\n",
    "xgb_classifier.fit(X_train_tf, y_train)\n",
    "xgb_train_preds = xgb_classifier.predict(X_train_tf)\n",
    "xgb_test_preds = xgb_classifier.predict(X_test_tf)"
   ]
  },
  {
   "cell_type": "code",
   "execution_count": 105,
   "metadata": {},
   "outputs": [
    {
     "name": "stdout",
     "output_type": "stream",
     "text": [
      "Train Accuracy score: 0.8228932584269663\n",
      "Test Accuracy score:  0.6646067415730337\n",
      "Train F1 score:  0.8100556274142777\n",
      "Test F1 score:  0.6318807922915051\n"
     ]
    }
   ],
   "source": [
    "f1_train = metrics.f1_score(y_train, xgb_train_preds, average='weighted')\n",
    "f1_test = metrics.f1_score(y_test, xgb_test_preds, average='weighted')\n",
    "print('Train Accuracy score:', metrics.accuracy_score(y_train, xgb_train_preds))\n",
    "print('Test Accuracy score: ', metrics.accuracy_score(y_test, xgb_test_preds))\n",
    "print('Train F1 score: ', f1_train)\n",
    "print('Test F1 score: ', f1_test)"
   ]
  },
  {
   "cell_type": "code",
   "execution_count": 106,
   "metadata": {},
   "outputs": [
    {
     "data": {
      "image/png": "[encoded data removed]",
      "text/plain": [
       "<Figure size 432x288 with 2 Axes>"
      ]
     },
     "metadata": {
      "needs_background": "light"
     },
     "output_type": "display_data"
    }
   ],
   "source": [
    "# Confusion Matrix \n",
    "plot_confusion_matrix(xgb_classifier, X_test_tf, y_test)\n",
    "plt.grid(False)"
   ]
  },
  {
   "cell_type": "code",
   "execution_count": 107,
   "metadata": {},
   "outputs": [
    {
     "data": {
      "text/plain": [
       "array([0.66994382, 0.6755618 , 0.68328652, 0.66853933, 0.68258427])"
      ]
     },
     "execution_count": 107,
     "metadata": {},
     "output_type": "execute_result"
    }
   ],
   "source": [
    "# k-fold cross validation\n",
    "xgb_pipe = make_pipeline(xgb_classifier)\n",
    "scores = cross_val_score(xgb_pipe, X_train_tf, y_train, cv=5)\n",
    "scores"
   ]
  },
  {
   "cell_type": "code",
   "execution_count": 108,
   "metadata": {},
   "outputs": [
    {
     "data": {
      "text/plain": [
       "array([0.6622191 , 0.66853933, 0.66151685, 0.66151685, 0.67134831])"
      ]
     },
     "execution_count": 108,
     "metadata": {},
     "output_type": "execute_result"
    }
   ],
   "source": [
    "# Oversampling on Random Forest model\n",
    "xgb_oversample_pipe = make_pipeline(SMOTE(random_state = 42), xgb_classifier)\n",
    "xgb_scores = cross_val_score(xgb_oversample_pipe, X_train_tf, y_train, cv=5)\n",
    "xgb_scores"
   ]
  },
  {
   "cell_type": "code",
   "execution_count": 109,
   "metadata": {},
   "outputs": [],
   "source": [
    "xgb_final_pipe = make_pipeline(SMOTE(random_state = 42), xgb_classifier)"
   ]
  },
  {
   "cell_type": "code",
   "execution_count": 110,
   "metadata": {},
   "outputs": [
    {
     "data": {
      "text/plain": [
       "Pipeline(steps=[('smote', SMOTE(random_state=42)),\n",
       "                ('xgbclassifier',\n",
       "                 XGBClassifier(base_score=0.5, booster='gbtree',\n",
       "                               colsample_bylevel=1, colsample_bynode=1,\n",
       "                               colsample_bytree=1, gamma=0, gpu_id=-1,\n",
       "                               importance_type='gain',\n",
       "                               interaction_constraints='',\n",
       "                               learning_rate=0.300000012, max_delta_step=0,\n",
       "                               max_depth=6, min_child_weight=1, missing=nan,\n",
       "                               monotone_constraints='()', n_estimators=100,\n",
       "                               n_jobs=0, num_parallel_tree=1,\n",
       "                               objective='multi:softprob', random_state=42,\n",
       "                               reg_alpha=0, reg_lambda=1, scale_pos_weight=None,\n",
       "                               subsample=1, tree_method='exact',\n",
       "                               validate_parameters=1, verbosity=None))])"
      ]
     },
     "execution_count": 110,
     "metadata": {},
     "output_type": "execute_result"
    }
   ],
   "source": [
    "xgb_final_pipe.fit(X_train_tf, y_train)"
   ]
  },
  {
   "cell_type": "code",
   "execution_count": 111,
   "metadata": {},
   "outputs": [],
   "source": [
    "xgb_train_preds = xgb_final_pipe.predict(X_train_tf)\n",
    "xgb_test_preds = xgb_final_pipe.predict(X_test_tf)"
   ]
  },
  {
   "cell_type": "code",
   "execution_count": 112,
   "metadata": {},
   "outputs": [
    {
     "name": "stdout",
     "output_type": "stream",
     "text": [
      "Train Accuracy score: 0.8127808988764045\n",
      "Test Accuracy score:  0.6707865168539325\n",
      "Train F1 score:  0.8037018318781425\n",
      "Test F1 score:  0.6523834490372314\n"
     ]
    }
   ],
   "source": [
    "f1_train = metrics.f1_score(y_train, xgb_train_preds, average='weighted')\n",
    "f1_test = metrics.f1_score(y_test, xgb_test_preds, average='weighted')\n",
    "print('Train Accuracy score:', metrics.accuracy_score(y_train, xgb_train_preds))\n",
    "print('Test Accuracy score: ', metrics.accuracy_score(y_test, xgb_test_preds))\n",
    "print('Train F1 score: ', f1_train)\n",
    "print('Test F1 score: ', f1_test)"
   ]
  },
  {
   "cell_type": "code",
   "execution_count": 113,
   "metadata": {},
   "outputs": [
    {
     "data": {
      "image/png": "[encoded data removed]",
      "text/plain": [
       "<Figure size 432x288 with 2 Axes>"
      ]
     },
     "metadata": {
      "needs_background": "light"
     },
     "output_type": "display_data"
    }
   ],
   "source": [
    "# Confusion Matrix\n",
    "plot_confusion_matrix(xgb_final_pipe, X_test_tf, y_test)\n",
    "plt.grid(False)"
   ]
  },
  {
   "cell_type": "markdown",
   "metadata": {},
   "source": [
    "In the final model of XGBoost classifier, the train accuracy is 81% and test accurcy is 67%. There was no big improvement after cross validation and over sampling techniques. The accuracy values remains almost the same. There are 290 true positive tweets and 21 true negative tweets. still the neutral tweets are high with 883 tweets. "
   ]
  },
  {
   "cell_type": "markdown",
   "metadata": {},
   "source": [
    "### Deep Neural Network"
   ]
  },
  {
   "cell_type": "markdown",
   "metadata": {},
   "source": [
    "Since these classifiers aren't seeing great results, I'm going to take this a step further with deep neural networks."
   ]
  },
  {
   "cell_type": "code",
   "execution_count": 114,
   "metadata": {},
   "outputs": [],
   "source": [
    "#import necessary keras packages\n",
    "from tensorflow.keras.preprocessing.sequence import pad_sequences\n",
    "from tensorflow.keras.layers import Input, Dense, LSTM, Embedding\n",
    "from tensorflow.keras.layers import Dropout, Activation, Bidirectional, GlobalMaxPool1D\n",
    "from tensorflow.keras.models import Sequential\n",
    "from tensorflow.keras import initializers, regularizers, constraints, optimizers, layers\n",
    "from tensorflow.keras.preprocessing import text, sequence"
   ]
  },
  {
   "cell_type": "code",
   "execution_count": 115,
   "metadata": {},
   "outputs": [],
   "source": [
    "from nltk import FreqDist, regexp_tokenize\n",
    "# Pattern to capture words with apostrophes as one token\n",
    "pattern = \"([a-zA-Z]+(?:'[a-z]+)?)\"\n",
    "\n",
    "# Casting tweet_text to string or the tokenization doesn't work\n",
    "df['tweet_text'] = df['tweet_text'].astype('str')\n",
    "\n",
    "# Tokenizing tweets and inserting into df\n",
    "df['raw_tokens'] = df['tweet_text'].map(lambda x: regexp_tokenize(x, pattern))\n",
    "\n",
    "# Lowercase all tokens\n",
    "df['raw_tokens'] = df['raw_tokens'].map(lambda x: [y.lower() for y in x])"
   ]
  },
  {
   "cell_type": "code",
   "execution_count": 116,
   "metadata": {},
   "outputs": [],
   "source": [
    "#listing the stop words and creating a column in dataframe\n",
    "stopwords_list = stopwords.words('english')\n",
    "stopwords_list += list(string.punctuation)\n",
    "stopwords_list += [\"''\", '\"\"', '...', '``', '’', '“', '’', '”', '‘', '‘', 's', '2']\n",
    "df['raw_tokens_stopped'] = df['raw_tokens'].map(lambda x: [y for y in x if y not in stopwords_list])"
   ]
  },
  {
   "cell_type": "code",
   "execution_count": 117,
   "metadata": {},
   "outputs": [],
   "source": [
    "#tokenize and pad the sequence the tweets\n",
    "tokenizer = text.Tokenizer(num_words=20000)\n",
    "tokenizer.fit_on_texts(list(df['raw_tokens_stopped']))\n",
    "list_tokenized = tokenizer.texts_to_sequences(df['raw_tokens_stopped'])\n",
    "X_values = sequence.pad_sequences(list_tokenized, maxlen=100)"
   ]
  },
  {
   "cell_type": "code",
   "execution_count": 118,
   "metadata": {},
   "outputs": [],
   "source": [
    "y_values= pd.get_dummies(target).values"
   ]
  },
  {
   "cell_type": "code",
   "execution_count": 119,
   "metadata": {},
   "outputs": [],
   "source": [
    "# Implement train/test split of dataset\n",
    "X_train_tk, X_test_tk,y_train_tk,y_test_tk = train_test_split(X_values,y_values,\n",
    "                                                            test_size=0.20,\n",
    "                                                            random_state=42)"
   ]
  },
  {
   "cell_type": "code",
   "execution_count": 120,
   "metadata": {},
   "outputs": [
    {
     "data": {
      "text/plain": [
       "(7120, 100)"
      ]
     },
     "execution_count": 120,
     "metadata": {},
     "output_type": "execute_result"
    }
   ],
   "source": [
    "X_train_tk.shape"
   ]
  },
  {
   "cell_type": "code",
   "execution_count": 121,
   "metadata": {},
   "outputs": [
    {
     "data": {
      "text/plain": [
       "(7120, 3)"
      ]
     },
     "execution_count": 121,
     "metadata": {},
     "output_type": "execute_result"
    }
   ],
   "source": [
    "y_train_tk.shape"
   ]
  },
  {
   "cell_type": "markdown",
   "metadata": {},
   "source": [
    "Both variables appear to be the right dimesions. Time to try a neural net. I'm going to build a sequential model, starting with an embedding layer of 20,000 words, which is the number of words in the tokenizer. I'm setting the embedding size as 128. I am then adding two layers, an LSTM and dense layers. To keep it simple, I'm going to run this for 6 epochs."
   ]
  },
  {
   "cell_type": "code",
   "execution_count": 122,
   "metadata": {},
   "outputs": [],
   "source": [
    "#architecture including an embedding layer, LSTM layer\n",
    "embedding_size = 128\n",
    "model = Sequential()\n",
    "n = 7120\n",
    "model.add(Embedding(20000, embedding_size, input_length=100))\n",
    "model.add(LSTM(48, return_sequences=False))\n",
    "model.add(Dropout(0.5))\n",
    "model.add(Dense(50, activation='relu'))\n",
    "model.add(Dropout(0.5))\n",
    "model.add(Dense(3, activation='softmax'))"
   ]
  },
  {
   "cell_type": "markdown",
   "metadata": {},
   "source": [
    "My model will evaluate on accuracy, and use the selected loss function and optimizer, since it is multiclass classification problem."
   ]
  },
  {
   "cell_type": "code",
   "execution_count": 123,
   "metadata": {},
   "outputs": [],
   "source": [
    "#compiling the model\n",
    "model.compile(loss='categorical_crossentropy', \n",
    "              optimizer='adam', \n",
    "              metrics=['accuracy'])"
   ]
  },
  {
   "cell_type": "code",
   "execution_count": 124,
   "metadata": {},
   "outputs": [
    {
     "name": "stdout",
     "output_type": "stream",
     "text": [
      "Model: \"sequential\"\n",
      "_________________________________________________________________\n",
      "Layer (type)                 Output Shape              Param #   \n",
      "=================================================================\n",
      "embedding (Embedding)        (None, 100, 128)          2560000   \n",
      "_________________________________________________________________\n",
      "lstm (LSTM)                  (None, 48)                33984     \n",
      "_________________________________________________________________\n",
      "dropout (Dropout)            (None, 48)                0         \n",
      "_________________________________________________________________\n",
      "dense (Dense)                (None, 50)                2450      \n",
      "_________________________________________________________________\n",
      "dropout_1 (Dropout)          (None, 50)                0         \n",
      "_________________________________________________________________\n",
      "dense_1 (Dense)              (None, 3)                 153       \n",
      "=================================================================\n",
      "Total params: 2,596,587\n",
      "Trainable params: 2,596,587\n",
      "Non-trainable params: 0\n",
      "_________________________________________________________________\n"
     ]
    }
   ],
   "source": [
    "#checking the summary of the model\n",
    "model.summary()"
   ]
  },
  {
   "cell_type": "code",
   "execution_count": 125,
   "metadata": {},
   "outputs": [
    {
     "name": "stdout",
     "output_type": "stream",
     "text": [
      "Epoch 1/3\n",
      "201/201 [==============================] - 15s 75ms/step - loss: 0.8705 - accuracy: 0.5918 - val_loss: 0.7649 - val_accuracy: 0.6236\n",
      "Epoch 2/3\n",
      "201/201 [==============================] - 17s 82ms/step - loss: 0.6925 - accuracy: 0.6918 - val_loss: 0.7385 - val_accuracy: 0.6545\n",
      "Epoch 3/3\n",
      "201/201 [==============================] - 16s 78ms/step - loss: 0.4880 - accuracy: 0.8081 - val_loss: 0.8623 - val_accuracy: 0.6699\n"
     ]
    }
   ],
   "source": [
    "#fitting the model on training data with epochs=3\n",
    "history = model.fit(X_train_tk, y_train_tk, epochs=3, batch_size= 32, validation_split=0.1)"
   ]
  },
  {
   "cell_type": "markdown",
   "metadata": {},
   "source": [
    "In the LSTM Network was able to achieve a validation accuracy around 60% after only three epochs of training. It's likely if we train for more epochs, the performance would improve even further."
   ]
  },
  {
   "cell_type": "code",
   "execution_count": 126,
   "metadata": {},
   "outputs": [
    {
     "name": "stdout",
     "output_type": "stream",
     "text": [
      "Epoch 1/6\n",
      "201/201 [==============================] - 17s 86ms/step - loss: 0.3747 - accuracy: 0.8542 - val_loss: 0.9545 - val_accuracy: 0.6756\n",
      "Epoch 2/6\n",
      "201/201 [==============================] - 16s 77ms/step - loss: 0.3010 - accuracy: 0.8881 - val_loss: 1.0524 - val_accuracy: 0.6559\n",
      "Epoch 3/6\n",
      "201/201 [==============================] - 15s 76ms/step - loss: 0.2574 - accuracy: 0.9028 - val_loss: 1.1427 - val_accuracy: 0.6615\n",
      "Epoch 4/6\n",
      "201/201 [==============================] - 19s 93ms/step - loss: 0.2196 - accuracy: 0.9148 - val_loss: 1.2756 - val_accuracy: 0.6728\n",
      "Epoch 5/6\n",
      "201/201 [==============================] - 18s 88ms/step - loss: 0.1969 - accuracy: 0.9218 - val_loss: 1.4442 - val_accuracy: 0.6685\n",
      "Epoch 6/6\n",
      "201/201 [==============================] - 16s 80ms/step - loss: 0.1746 - accuracy: 0.9251 - val_loss: 1.4647 - val_accuracy: 0.6475\n"
     ]
    }
   ],
   "source": [
    "#fitting the model on training data with epochs=6\n",
    "history = model.fit(X_train_tk, y_train_tk, epochs=6, batch_size= 32, validation_split=0.1)"
   ]
  },
  {
   "cell_type": "code",
   "execution_count": 127,
   "metadata": {},
   "outputs": [
    {
     "name": "stdout",
     "output_type": "stream",
     "text": [
      "223/223 [==============================] - 2s 11ms/step - loss: 0.2649 - accuracy: 0.9133\n",
      "56/56 [==============================] - 1s 11ms/step - loss: 1.4106 - accuracy: 0.6573\n",
      "Train score: [0.2648613452911377, 0.9133427143096924]\n",
      "Test Score: [1.4106169939041138, 0.6573033928871155]\n"
     ]
    }
   ],
   "source": [
    "#evaluating the score for train and test data\n",
    "train_score = model.evaluate(X_train_tk, y_train_tk)\n",
    "test_score = model.evaluate(X_test_tk, y_test_tk)\n",
    "print('Train score:', train_score)\n",
    "print('Test Score:', test_score)"
   ]
  },
  {
   "cell_type": "code",
   "execution_count": 128,
   "metadata": {},
   "outputs": [
    {
     "data": {
      "image/png": "[encoded data removed]",
      "text/plain": [
       "<Figure size 432x288 with 1 Axes>"
      ]
     },
     "metadata": {
      "needs_background": "light"
     },
     "output_type": "display_data"
    }
   ],
   "source": [
    "#plotting the Accuracy between training and test sets\n",
    "import matplotlib.pyplot as plt\n",
    "plt.ylim(0.5,1.2)\n",
    "plt.plot(history.history['accuracy'])\n",
    "plt.plot(history.history['val_accuracy'])\n",
    "\n",
    "plt.title('Model Accuracy')\n",
    "plt.ylabel('accuracy')\n",
    "plt.xlabel('epoch')\n",
    "plt.legend(['train','test'], loc='upper left')\n",
    "plt.show()"
   ]
  },
  {
   "cell_type": "code",
   "execution_count": 129,
   "metadata": {},
   "outputs": [
    {
     "data": {
      "image/png": "[encoded data removed]",
      "text/plain": [
       "<Figure size 432x288 with 1 Axes>"
      ]
     },
     "metadata": {
      "needs_background": "light"
     },
     "output_type": "display_data"
    }
   ],
   "source": [
    "#plotting the loss between training and test sets\n",
    "plt.ylim(0.3,1.2)\n",
    "plt.plot(history.history['loss'])\n",
    "plt.plot(history.history['val_loss'])\n",
    "plt.title('Model loss')\n",
    "plt.ylabel('loss')\n",
    "plt.xlabel('epoch')\n",
    "plt.legend(['train','test'], loc='upper left')\n",
    "plt.show()"
   ]
  },
  {
   "cell_type": "markdown",
   "metadata": {},
   "source": [
    "Neural network achieved 93% accuracy on the training set and the loss function is 0.35. Accuracy of test set is 64% and the loss function is 2.85. loss function is high."
   ]
  },
  {
   "cell_type": "code",
   "execution_count": 130,
   "metadata": {},
   "outputs": [
    {
     "data": {
      "text/plain": [
       "array([[0.02015162, 0.8290894 , 0.15075903],\n",
       "       [0.49435213, 0.42408207, 0.08156572],\n",
       "       [0.31145692, 0.40880084, 0.27974224],\n",
       "       [0.310888  , 0.4185653 , 0.27054664],\n",
       "       [0.31145692, 0.40880084, 0.27974224],\n",
       "       [0.31145692, 0.40880084, 0.27974224],\n",
       "       [0.05177566, 0.79292977, 0.15529455],\n",
       "       [0.310888  , 0.4185653 , 0.27054664],\n",
       "       [0.2192797 , 0.6628274 , 0.11789293],\n",
       "       [0.2192797 , 0.6628274 , 0.11789293],\n",
       "       [0.31145692, 0.40880084, 0.27974224],\n",
       "       [0.31145692, 0.40880084, 0.27974224],\n",
       "       [0.31145692, 0.40880084, 0.27974224],\n",
       "       [0.31145692, 0.40880084, 0.27974224],\n",
       "       [0.31145692, 0.40880084, 0.27974224],\n",
       "       [0.02280531, 0.7554589 , 0.22173579],\n",
       "       [0.31145692, 0.40880084, 0.27974224],\n",
       "       [0.31145692, 0.40880084, 0.27974224],\n",
       "       [0.31145692, 0.40880084, 0.27974224],\n",
       "       [0.06778891, 0.55330086, 0.37891024],\n",
       "       [0.31145692, 0.40880084, 0.27974224],\n",
       "       [0.31145692, 0.40880084, 0.27974224],\n",
       "       [0.31145692, 0.40880084, 0.27974224],\n",
       "       [0.31145692, 0.40880084, 0.27974224],\n",
       "       [0.31145692, 0.40880084, 0.27974224],\n",
       "       [0.00135807, 0.9593018 , 0.03934011],\n",
       "       [0.2192797 , 0.6628274 , 0.11789293],\n",
       "       [0.49435213, 0.42408207, 0.08156572],\n",
       "       [0.31145692, 0.40880084, 0.27974224],\n",
       "       [0.31145692, 0.40880084, 0.27974224],\n",
       "       [0.31145686, 0.40880084, 0.27974224],\n",
       "       [0.49435213, 0.42408207, 0.08156572],\n",
       "       [0.3114569 , 0.40880084, 0.27974224]], dtype=float32)"
      ]
     },
     "execution_count": 130,
     "metadata": {},
     "output_type": "execute_result"
    }
   ],
   "source": [
    "#Making Predictions on Single instance\n",
    "tweet ='Beautifully smart and simple idea'\n",
    "tokenizer.fit_on_texts([tweet])\n",
    "list_tokenized1 = tokenizer.texts_to_sequences(tweet)\n",
    "X_val = sequence.pad_sequences(list_tokenized1, maxlen=100)\n",
    "model.predict(X_val)"
   ]
  },
  {
   "cell_type": "code",
   "execution_count": 131,
   "metadata": {},
   "outputs": [
    {
     "data": {
      "text/plain": [
       "array([[0.31145692, 0.40880084, 0.27974224],\n",
       "       [0.68838435, 0.18056081, 0.13105482],\n",
       "       [0.21823235, 0.4490154 , 0.33275232],\n",
       "       [0.31145692, 0.40880084, 0.27974224],\n",
       "       [0.31145692, 0.40880084, 0.27974224],\n",
       "       [0.00135807, 0.9593018 , 0.03934011],\n",
       "       [0.68838435, 0.18056081, 0.13105482],\n",
       "       [0.31145692, 0.40880084, 0.27974224],\n",
       "       [0.06778891, 0.55330086, 0.37891024],\n",
       "       [0.49435213, 0.42408207, 0.08156572],\n",
       "       [0.31145692, 0.40880084, 0.27974224],\n",
       "       [0.31145692, 0.40880084, 0.27974224],\n",
       "       [0.06778891, 0.55330086, 0.37891024],\n",
       "       [0.31145692, 0.40880084, 0.27974224],\n",
       "       [0.31145692, 0.40880084, 0.27974224],\n",
       "       [0.21823235, 0.4490154 , 0.33275232],\n",
       "       [0.31145692, 0.40880084, 0.27974224],\n",
       "       [0.31145692, 0.40880084, 0.27974224],\n",
       "       [0.31145692, 0.40880084, 0.27974224],\n",
       "       [0.31145692, 0.40880084, 0.27974224],\n",
       "       [0.237983  , 0.38749033, 0.3745266 ],\n",
       "       [0.49435213, 0.42408207, 0.08156572],\n",
       "       [0.31145692, 0.40880084, 0.27974224],\n",
       "       [0.31145692, 0.40880084, 0.27974224],\n",
       "       [0.08634381, 0.5551125 , 0.35854372],\n",
       "       [0.31145692, 0.40880084, 0.27974224],\n",
       "       [0.31145692, 0.40880084, 0.27974224],\n",
       "       [0.3114569 , 0.40880084, 0.27974224]], dtype=float32)"
      ]
     },
     "execution_count": 131,
     "metadata": {},
     "output_type": "execute_result"
    }
   ],
   "source": [
    "#Making Predictions on Single instance\n",
    "tweet ='this phone and i am vey good'\n",
    "tokenizer.fit_on_texts([tweet])\n",
    "list_tokenized1 = tokenizer.texts_to_sequences(tweet)\n",
    "X_val = sequence.pad_sequences(list_tokenized1, maxlen=100)\n",
    "model.predict(X_val)"
   ]
  },
  {
   "cell_type": "markdown",
   "metadata": {},
   "source": [
    "## Conclusion and Next Step"
   ]
  },
  {
   "cell_type": "markdown",
   "metadata": {},
   "source": [
    "- These models show some success in predicting Twitter sentiment. I would recommend the Random Forest Classification model. This model was relatively successful in extracting both negative and positive tweet sentiments, and is conservative in how many inaccuracies it is making compared to the rest of the models. \n",
    "- The data seems to be heavily grounded in tech, with the number one key word being a hashtag for a tech confrence. Furthermore, iPad, Google, Apple, and iPhone are extremely prevalent key words. I believe this model is possibly associating certain tech words or brands with positive or negative sentiment. The process must be repeated with a larger data set that has a diverse field of interest."
   ]
  },
  {
   "cell_type": "markdown",
   "metadata": {},
   "source": [
    "\n",
    "- Adding more data could also allow the use of a simpler neural net model, which could help to reduce runtimes.\n",
    "- Further tuning of models using grid search. This would have allowed all the models to be tuned to the precise settings that would yield the good results.\n"
   ]
  },
  {
   "cell_type": "code",
   "execution_count": null,
   "metadata": {},
   "outputs": [],
   "source": []
  }
 ],
 "metadata": {
  "kernelspec": {
   "display_name": "learn-env",
   "language": "python",
   "name": "learn-env"
  },
  "language_info": {
   "codemirror_mode": {
    "name": "ipython",
    "version": 3
   },
   "file_extension": ".py",
   "mimetype": "text/x-python",
   "name": "python",
   "nbconvert_exporter": "python",
   "pygments_lexer": "ipython3",
   "version": "3.8.5"
  }
 },
 "nbformat": 4,
 "nbformat_minor": 4
}
